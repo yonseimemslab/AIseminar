{
 "cells": [
  {
   "cell_type": "code",
   "execution_count": 1,
   "metadata": {},
   "outputs": [
    {
     "data": {
      "text/html": [
       "<style>.container { width: 90% !important; }</style>"
      ],
      "text/plain": [
       "<IPython.core.display.HTML object>"
      ]
     },
     "metadata": {},
     "output_type": "display_data"
    }
   ],
   "source": [
    "import requests\n",
    "import pandas as pd\n",
    "from bs4 import BeautifulSoup as bs\n",
    "import glob\n",
    "import os\n",
    "import numpy as np\n",
    "import datetime\n",
    "import seaborn as sns\n",
    "import matplotlib.pyplot as plt\n",
    "from IPython.core.display import display, HTML\n",
    "display(HTML(\"<style>.container { width: 90% !important; }</style>\"))"
   ]
  },
  {
   "cell_type": "code",
   "execution_count": 2,
   "metadata": {
    "scrolled": true
   },
   "outputs": [
    {
     "name": "stderr",
     "output_type": "stream",
     "text": [
      "c:\\program files (x86)\\microsoft visual studio\\shared\\python37_64\\lib\\site-packages\\bs4\\__init__.py:181: UserWarning: No parser was explicitly specified, so I'm using the best available HTML parser for this system (\"lxml\"). This usually isn't a problem, but if you run this code on another system, or in a different virtual environment, it may use a different parser and behave differently.\n",
      "\n",
      "The code that caused this warning is on line 193 of the file c:\\program files (x86)\\microsoft visual studio\\shared\\python37_64\\lib\\runpy.py. To get rid of this warning, change code that looks like this:\n",
      "\n",
      " BeautifulSoup(YOUR_MARKUP})\n",
      "\n",
      "to this:\n",
      "\n",
      " BeautifulSoup(YOUR_MARKUP, \"lxml\")\n",
      "\n",
      "  markup_type=markup_type))\n"
     ]
    },
    {
     "name": "stdout",
     "output_type": "stream",
     "text": [
      "강서구\n",
      "강북구\n",
      "강남구\n",
      "강동구\n",
      "관악구\n",
      "광진구\n",
      "구로구\n",
      "금천구\n",
      "노원구\n",
      "도봉구\n",
      "동대문구\n",
      "동작구\n",
      "마포구\n",
      "서대문구\n",
      "서초구\n",
      "성동구\n",
      "성북구\n",
      "송파구\n",
      "양천구\n",
      "영등포구\n",
      "용산구\n",
      "은평구\n",
      "종로구\n",
      "중구\n",
      "중랑구\n"
     ]
    }
   ],
   "source": [
    "i=0\n",
    "region=[]\n",
    "region=[\"강서구\",\"강북구\",\"강남구\",\"강동구\",\"관악구\",\"광진구\",\"구로구\",\"금천구\",\"노원구\",\"도봉구\",\"동대문구\",\"동작구\",\"마포구\",\"서대문구\",\"서초구\",\"성동구\",\"성북구\",\"송파구\",\"양천구\",\"영등포구\",\"용산구\",\"은평구\",\"종로구\",\"중구\",\"중랑구\"]\n",
    "for i in range(len(region)):\n",
    "    data=requests.get(\"http://openapi.airkorea.or.kr/openapi/services/rest/ArpltnInforInqireSvc/getMsrstnAcctoRltmMesureDnsty?stationName=\"+region[i]+\"&dataTerm=3MONTH&pageNo=1&numOfRows=100&ServiceKey=uWcDgu8b4msGBpJVMLudLsfYadK9EGBnuCk3TyON1rMfhVuzLVwJ1t2tPlCwfBINamWnDZ3qokqGGqh%2B2oxmPA%3D%3D&ver=1.3\")\n",
    "    soup=bs(data.text)\n",
    "    data2=requests.get(\"http://openapi.airkorea.or.kr/openapi/services/rest/MsrstnInfoInqireSvc/getMsrstnList?addr=서울&stationName=\"+region[i]+\"&pageNo=1&numOfRows=100&ServiceKey=uWcDgu8b4msGBpJVMLudLsfYadK9EGBnuCk3TyON1rMfhVuzLVwJ1t2tPlCwfBINamWnDZ3qokqGGqh%2B2oxmPA%3D%3D\")\n",
    "    soup2=bs(data2.text)\n",
    "    data=pd.DataFrame([[t.datatime.text,t.pm10value.text,t.pm25value.text,t.so2value.text,t.covalue.text,t.o3value.text,t.no2value.text,soup2.items.item.dmx.text,soup2.items.item.dmy.text] for t in soup.find_all(\"items\")[0].find_all('item')])\n",
    "\n",
    "    data.columns=['날짜','PM10','PM2.5','SO2','CO','O3','NO2','X좌표','Y좌표']\n",
    "    def change_time(x):\n",
    "        if x.find(\"24:00\") !=-1:\n",
    "            return np.nan\n",
    "        else:\n",
    "            return pd.to_datetime(x)\n",
    "\n",
    "    data['날짜'] =data['날짜'].apply(change_time)\n",
    "    print(str(region[i]))\n",
    "    data.to_csv(\"./\"+str(region[i])+\".csv\",encoding='ms949')"
   ]
  },
  {
   "cell_type": "code",
   "execution_count": 3,
   "metadata": {},
   "outputs": [],
   "source": [
    "import networkx as nx\n",
    "import matplotlib as mpl\n",
    "import matplotlib.pyplot as plt\n",
    "import matplotlib.font_manager as fm\n",
    "from matplotlib import font_manager, rc\n",
    "import platform\n",
    "import csv\n",
    "\n",
    "if platform.system() == 'Windows':\n",
    "# 윈도우인 경우\n",
    "    font_name = font_manager.FontProperties(fname=\"c:/Windows/Fonts/malgun.ttf\").get_name()\n",
    "    rc('font', family=font_name)\n",
    "\n",
    "region=[\"강서구\",\"강북구\",\"강남구\",\"강동구\",\"관악구\",\"광진구\",\"구로구\",\"금천구\",\"노원구\",\"도봉구\",\"동대문구\",\"동작구\",\"마포구\",\"서대문구\",\"서초구\",\"성동구\",\"성북구\",\"송파구\",\"양천구\",\"영등포구\",\"용산구\",\"은평구\",\"종로구\",\"중구\",\"중랑구\"]    "
   ]
  },
  {
   "cell_type": "code",
   "execution_count": 4,
   "metadata": {},
   "outputs": [
    {
     "name": "stdout",
     "output_type": "stream",
     "text": [
      "{'강서구': 38.0, '강북구': 26.0, '강남구': 33.0, '강동구': 37.0, '관악구': 28.0, '광진구': 30.0, '구로구': 36.0, '금천구': 28.0, '노원구': 27.0, '도봉구': 35.0, '동대문구': 32.0, '동작구': 37.0, '마포구': 35.0, '서대문구': 38.0, '서초구': 36.0, '성동구': 34.0, '성북구': 28.0, '송파구': 28.0, '양천구': 33.0, '영등포구': 37.0, '용산구': 0.0, '은평구': 36.0, '종로구': 33.0, '중구': 42.0, '중랑구': 35.0}\n"
     ]
    }
   ],
   "source": [
    "PM={}\n",
    "for j in range (len(data)):\n",
    "    for i in range (len(region)):\n",
    "    \n",
    "        data=pd.read_csv(\"./\"+str(region[i])+\".csv\",encoding='ms949')\n",
    "        if data['PM2.5'][j]=='-':\n",
    "            PM[str(region[i])]=float(0.0)\n",
    "        else:\n",
    "            PM[str(region[i])]=float(data['PM2.5'][j])\n",
    "print(PM)"
   ]
  },
  {
   "cell_type": "code",
   "execution_count": 5,
   "metadata": {},
   "outputs": [
    {
     "name": "stdout",
     "output_type": "stream",
     "text": [
      "{'강서구': (126.835094, 37.544655999999996), '강북구': (127.01195200000001, 37.64793), '강남구': (127.04728899999999, 37.517562), '강동구': (127.136806, 37.545089000000004), '관악구': (126.927089, 37.488242), '광진구': (127.095706, 37.544639000000004), '구로구': (126.889692, 37.498498), '금천구': (126.90833300000001, 37.452386), '노원구': (127.067876, 37.657415), '도봉구': (127.02933300000001, 37.654278000000005), '동대문구': (127.029642, 37.576169), '동작구': (126.971547, 37.480989), '마포구': (126.90545700000001, 37.555609999999994), '서대문구': (126.94953400000001, 37.593749), '서초구': (126.994611, 37.504546999999995), '성동구': (127.04968500000001, 37.542035999999996), '성북구': (127.02726399999999, 37.606667), '송파구': (127.09238500000001, 37.502685), '양천구': (126.85868899999998, 37.523286), '영등포구': (126.89737, 37.525007), '용산구': (127.00508300000001, 37.540314), '은평구': (126.933504, 37.610471000000004), '종로구': (127.005028, 37.572025), '중구': (126.97596100000001, 37.564639), '중랑구': (127.094283, 37.584953000000006)}\n"
     ]
    }
   ],
   "source": [
    "position={}\n",
    "for i in range (len(region)):\n",
    "    data=pd.read_csv(\"./\"+str(region[i])+\".csv\",encoding='ms949')\n",
    "    position[str(region[i])]=data[\"Y좌표\"][0],data['X좌표'][0]\n",
    "print(position)"
   ]
  },
  {
   "cell_type": "code",
   "execution_count": 6,
   "metadata": {},
   "outputs": [
    {
     "name": "stdout",
     "output_type": "stream",
     "text": [
      "25\n"
     ]
    }
   ],
   "source": [
    "print(len(position))"
   ]
  },
  {
   "cell_type": "code",
   "execution_count": 7,
   "metadata": {},
   "outputs": [],
   "source": [
    "G=nx.Graph()\n",
    "\n",
    "#data=pd.read_csv(\"./\"+str(region[0])+\".csv\",encoding='ms949')\n",
    "#print(data)\n",
    "i=0\n",
    "G=nx.Graph()\n",
    "for i in range (len(region)):\n",
    "    G.add_node(region[i],pos=position[region[i]])\n",
    "pos=nx.get_node_attributes(G,'pos')    \n"
   ]
  },
  {
   "cell_type": "code",
   "execution_count": 14,
   "metadata": {
    "scrolled": true
   },
   "outputs": [
    {
     "ename": "RuntimeError",
     "evalue": "No mappable was found to use for colorbar creation. First define a mappable such as an image (with imshow) or a contour set (with contourf).",
     "output_type": "error",
     "traceback": [
      "\u001b[1;31m---------------------------------------------------------------------------\u001b[0m",
      "\u001b[1;31mRuntimeError\u001b[0m                              Traceback (most recent call last)",
      "\u001b[1;32m<ipython-input-14-bfcef6a820d2>\u001b[0m in \u001b[0;36m<module>\u001b[1;34m\u001b[0m\n\u001b[0;32m     14\u001b[0m             \u001b[0mPM\u001b[0m\u001b[1;33m[\u001b[0m\u001b[0mstr\u001b[0m\u001b[1;33m(\u001b[0m\u001b[0mregion\u001b[0m\u001b[1;33m[\u001b[0m\u001b[0mi\u001b[0m\u001b[1;33m]\u001b[0m\u001b[1;33m)\u001b[0m\u001b[1;33m]\u001b[0m\u001b[1;33m=\u001b[0m\u001b[0mfloat\u001b[0m\u001b[1;33m(\u001b[0m\u001b[0mdata\u001b[0m\u001b[1;33m[\u001b[0m\u001b[1;34m'PM2.5'\u001b[0m\u001b[1;33m]\u001b[0m\u001b[1;33m[\u001b[0m\u001b[0mj\u001b[0m\u001b[1;33m]\u001b[0m\u001b[1;33m)\u001b[0m\u001b[1;33m\u001b[0m\u001b[1;33m\u001b[0m\u001b[0m\n\u001b[0;32m     15\u001b[0m     \u001b[0mnc\u001b[0m\u001b[1;33m=\u001b[0m\u001b[0mnx\u001b[0m\u001b[1;33m.\u001b[0m\u001b[0mdraw\u001b[0m\u001b[1;33m(\u001b[0m\u001b[0mG\u001b[0m\u001b[1;33m,\u001b[0m\u001b[0mpos\u001b[0m\u001b[1;33m,\u001b[0m\u001b[0mfont_family\u001b[0m\u001b[1;33m=\u001b[0m\u001b[0mfont_name\u001b[0m\u001b[1;33m,\u001b[0m\u001b[0mnode_color\u001b[0m\u001b[1;33m=\u001b[0m\u001b[1;33m[\u001b[0m\u001b[0mv\u001b[0m\u001b[1;33m*\u001b[0m\u001b[1;36m1.2\u001b[0m \u001b[1;32mfor\u001b[0m \u001b[0mv\u001b[0m \u001b[1;32min\u001b[0m \u001b[0mPM\u001b[0m\u001b[1;33m.\u001b[0m\u001b[0mvalues\u001b[0m\u001b[1;33m(\u001b[0m\u001b[1;33m)\u001b[0m\u001b[1;33m]\u001b[0m\u001b[1;33m,\u001b[0m\u001b[0mnode_size\u001b[0m\u001b[1;33m=\u001b[0m\u001b[1;33m[\u001b[0m\u001b[0mv\u001b[0m \u001b[1;33m*\u001b[0m \u001b[1;36m30\u001b[0m \u001b[1;32mfor\u001b[0m \u001b[0mv\u001b[0m \u001b[1;32min\u001b[0m \u001b[0mPM\u001b[0m\u001b[1;33m.\u001b[0m\u001b[0mvalues\u001b[0m\u001b[1;33m(\u001b[0m\u001b[1;33m)\u001b[0m\u001b[1;33m]\u001b[0m\u001b[1;33m,\u001b[0m\u001b[0mcmap\u001b[0m \u001b[1;33m=\u001b[0m \u001b[0mplt\u001b[0m\u001b[1;33m.\u001b[0m\u001b[0mcm\u001b[0m\u001b[1;33m.\u001b[0m\u001b[0mget_cmap\u001b[0m\u001b[1;33m(\u001b[0m\u001b[1;34m'OrRd'\u001b[0m\u001b[1;33m)\u001b[0m\u001b[1;33m,\u001b[0m\u001b[0mwith_labels\u001b[0m\u001b[1;33m=\u001b[0m\u001b[1;32mTrue\u001b[0m\u001b[1;33m)\u001b[0m\u001b[1;33m\u001b[0m\u001b[1;33m\u001b[0m\u001b[0m\n\u001b[1;32m---> 16\u001b[1;33m     \u001b[0mplt\u001b[0m\u001b[1;33m.\u001b[0m\u001b[0mcolorbar\u001b[0m\u001b[1;33m(\u001b[0m\u001b[0mnc\u001b[0m\u001b[1;33m)\u001b[0m\u001b[1;33m\u001b[0m\u001b[1;33m\u001b[0m\u001b[0m\n\u001b[0m\u001b[0;32m     17\u001b[0m     \u001b[0mplt\u001b[0m\u001b[1;33m.\u001b[0m\u001b[0mpause\u001b[0m\u001b[1;33m(\u001b[0m\u001b[1;36m0.1\u001b[0m\u001b[1;33m)\u001b[0m\u001b[1;33m\u001b[0m\u001b[1;33m\u001b[0m\u001b[0m\n\u001b[0;32m     18\u001b[0m     \u001b[0mplt\u001b[0m\u001b[1;33m.\u001b[0m\u001b[0mclf\u001b[0m\u001b[1;33m(\u001b[0m\u001b[1;33m)\u001b[0m\u001b[1;33m\u001b[0m\u001b[1;33m\u001b[0m\u001b[0m\n",
      "\u001b[1;32mc:\\program files (x86)\\microsoft visual studio\\shared\\python37_64\\lib\\site-packages\\matplotlib\\pyplot.py\u001b[0m in \u001b[0;36mcolorbar\u001b[1;34m(mappable, cax, ax, **kw)\u001b[0m\n\u001b[0;32m   2072\u001b[0m         \u001b[0mmappable\u001b[0m \u001b[1;33m=\u001b[0m \u001b[0mgci\u001b[0m\u001b[1;33m(\u001b[0m\u001b[1;33m)\u001b[0m\u001b[1;33m\u001b[0m\u001b[1;33m\u001b[0m\u001b[0m\n\u001b[0;32m   2073\u001b[0m         \u001b[1;32mif\u001b[0m \u001b[0mmappable\u001b[0m \u001b[1;32mis\u001b[0m \u001b[1;32mNone\u001b[0m\u001b[1;33m:\u001b[0m\u001b[1;33m\u001b[0m\u001b[1;33m\u001b[0m\u001b[0m\n\u001b[1;32m-> 2074\u001b[1;33m             raise RuntimeError('No mappable was found to use for colorbar '\n\u001b[0m\u001b[0;32m   2075\u001b[0m                                \u001b[1;34m'creation. First define a mappable such as '\u001b[0m\u001b[1;33m\u001b[0m\u001b[1;33m\u001b[0m\u001b[0m\n\u001b[0;32m   2076\u001b[0m                                \u001b[1;34m'an image (with imshow) or a contour set ('\u001b[0m\u001b[1;33m\u001b[0m\u001b[1;33m\u001b[0m\u001b[0m\n",
      "\u001b[1;31mRuntimeError\u001b[0m: No mappable was found to use for colorbar creation. First define a mappable such as an image (with imshow) or a contour set (with contourf)."
     ]
    }
   ],
   "source": [
    "%matplotlib tk\n",
    "i=0\n",
    "PM={}\n",
    "G=nx.Graph()\n",
    "for i in range (len(region)):\n",
    "    G.add_node(region[i],pos=position[region[i]])\n",
    "\n",
    "for j in range (len(data)):\n",
    "    for i in range (len(region)):\n",
    "        data=pd.read_csv(\"./\"+str(region[i])+\".csv\",encoding='ms949')\n",
    "        if data['PM2.5'][j]=='-':\n",
    "            PM[str(region[i])]=float(0.0)\n",
    "        else:\n",
    "            PM[str(region[i])]=float(data['PM2.5'][j])\n",
    "    nc=nx.draw(G,pos,font_family=font_name,node_color=[v*1.2 for v in PM.values()],node_size=[v * 30 for v in PM.values()],cmap = plt.cm.get_cmap('OrRd'),with_labels=True)\n",
    "    plt.colorbar(nc)\n",
    "    plt.pause(0.1)\n",
    "    plt.clf()\n"
   ]
  },
  {
   "cell_type": "code",
   "execution_count": null,
   "metadata": {
    "scrolled": true
   },
   "outputs": [],
   "source": [
    "PM"
   ]
  },
  {
   "cell_type": "code",
   "execution_count": null,
   "metadata": {},
   "outputs": [],
   "source": []
  },
  {
   "cell_type": "code",
   "execution_count": null,
   "metadata": {},
   "outputs": [],
   "source": [
    "nx.draw(G,pos=position,font_family=font_name, font_size=9,node_size=[v * 10 for v in degree1.values()],with_labels=True)"
   ]
  },
  {
   "cell_type": "code",
   "execution_count": null,
   "metadata": {},
   "outputs": [],
   "source": [
    "nx.draw(G,font_family=font_name, font_size=9,node_size=[v * 10 for v in degree.values()],with_labels=True)"
   ]
  },
  {
   "cell_type": "code",
   "execution_count": null,
   "metadata": {},
   "outputs": [],
   "source": [
    "\n",
    "data2=requests.get(\"http://openapi.airkorea.or.kr/openapi/services/rest/MsrstnInfoInqireSvc/getTMStdrCrdnt?addr=서울&stationName=강남구&pageNo=1&numOfRows=100&ServiceKey=uWcDgu8b4msGBpJVMLudLsfYadK9EGBnuCk3TyON1rMfhVuzLVwJ1t2tPlCwfBINamWnDZ3qokqGGqh%2B2oxmPA%3D%3D\")"
   ]
  },
  {
   "cell_type": "code",
   "execution_count": null,
   "metadata": {},
   "outputs": [],
   "source": [
    "data3=requests.get(\"http://openapi.airkorea.or.kr/openapi/services/rest/MsrstnInfoInqireSvc/getMsrstnList?addr=서울&stationName=강남구&pageNo=1&numOfRows=100&ServiceKey=uWcDgu8b4msGBpJVMLudLsfYadK9EGBnuCk3TyON1rMfhVuzLVwJ1t2tPlCwfBINamWnDZ3qokqGGqh%2B2oxmPA%3D%3D\")"
   ]
  },
  {
   "cell_type": "code",
   "execution_count": null,
   "metadata": {
    "scrolled": true
   },
   "outputs": [],
   "source": [
    "%matplotlib inline\n",
    "import matplotlib.pyplot as plt\n",
    "import numpy as np\n",
    "\n",
    "plt.ion()\n",
    "for i in range(50):\n",
    "    y = np.random.random([10,1])\n",
    "    plt.plot(y)\n",
    "    plt.draw()\n",
    "    plt.pause(0.1)\n",
    "    plt.clf()"
   ]
  },
  {
   "cell_type": "code",
   "execution_count": null,
   "metadata": {
    "scrolled": true
   },
   "outputs": [],
   "source": [
    "print(soup)"
   ]
  },
  {
   "cell_type": "code",
   "execution_count": null,
   "metadata": {},
   "outputs": [],
   "source": [
    "print(soup2)"
   ]
  },
  {
   "cell_type": "code",
   "execution_count": null,
   "metadata": {},
   "outputs": [],
   "source": []
  },
  {
   "cell_type": "code",
   "execution_count": null,
   "metadata": {},
   "outputs": [],
   "source": [
    "soup=bs(data.text)"
   ]
  },
  {
   "cell_type": "code",
   "execution_count": null,
   "metadata": {
    "scrolled": true
   },
   "outputs": [],
   "source": [
    "bam_recent=pd.DataFrame([[t.datatime.text,t.pm10value.text,t.pm25value.text] for t in soup.find_all(\"items\")[0].find_all('item')])\n",
    "bam_recent.columns=['날짜','PM10','PM2.5']\n",
    "def change_time(x):\n",
    "    if x.find(\"24:00\") !=-1:\n",
    "        return np.nan\n",
    "    else:\n",
    "        return pd.to_datetime(x)\n",
    "\n",
    "bam_recent['날짜'] =bam_recent['날짜'].apply(change_time)"
   ]
  },
  {
   "cell_type": "code",
   "execution_count": null,
   "metadata": {},
   "outputs": [],
   "source": [
    "bam_recent"
   ]
  },
  {
   "cell_type": "code",
   "execution_count": null,
   "metadata": {},
   "outputs": [],
   "source": [
    "bam_recent['PM10']"
   ]
  },
  {
   "cell_type": "code",
   "execution_count": null,
   "metadata": {},
   "outputs": [],
   "source": [
    "plt.plot(bam_recent['PM10'])\n",
    "plt.show()"
   ]
  },
  {
   "cell_type": "code",
   "execution_count": null,
   "metadata": {},
   "outputs": [],
   "source": [
    "fi =pd.concat([df,bam_recent[::-1].reset_index(drop=True)])\n",
    "fi2 =fi.drop_duplicates('날짜')\n",
    "fi3=fi2.dropna(subset=['날짜'],axis=0)"
   ]
  },
  {
   "cell_type": "code",
   "execution_count": null,
   "metadata": {},
   "outputs": [],
   "source": [
    "filename=\"./last/bam_gangnam_\"+datetime.datetime.now().strftime(\"%m-%d_%H_%M\")+\".csv\"\n",
    "fi3.to_csv(filename,encoding='utf-8-sig')\n",
    "os.remove(data_path)"
   ]
  },
  {
   "cell_type": "code",
   "execution_count": null,
   "metadata": {},
   "outputs": [],
   "source": [
    "import matplotlib.pyplot as plt"
   ]
  },
  {
   "cell_type": "code",
   "execution_count": null,
   "metadata": {
    "scrolled": true
   },
   "outputs": [],
   "source": [
    "fi3[['PM10','PM2.5']]=fi3[['PM10','PM2.5']].apply(pd.to_numeric,errors='coerce')"
   ]
  },
  {
   "cell_type": "code",
   "execution_count": null,
   "metadata": {},
   "outputs": [],
   "source": [
    "fi4=fi3.dropna(subset=['PM10','PM2.5']).reset_index(drop=True)"
   ]
  },
  {
   "cell_type": "code",
   "execution_count": null,
   "metadata": {},
   "outputs": [],
   "source": [
    "fi4.head()"
   ]
  },
  {
   "cell_type": "code",
   "execution_count": null,
   "metadata": {},
   "outputs": [],
   "source": [
    "plt.plot(fi4['PM2.5'])\n",
    "plt.xticks"
   ]
  },
  {
   "cell_type": "code",
   "execution_count": null,
   "metadata": {},
   "outputs": [],
   "source": [
    "fi4['날짜'] =pd.to_datetime(fi4['날짜']) - datetime.timedelta(hours=1)"
   ]
  },
  {
   "cell_type": "code",
   "execution_count": null,
   "metadata": {},
   "outputs": [],
   "source": [
    "fi4"
   ]
  },
  {
   "cell_type": "code",
   "execution_count": null,
   "metadata": {},
   "outputs": [],
   "source": [
    "glob.glob(\"./last/*.*\")"
   ]
  },
  {
   "cell_type": "code",
   "execution_count": null,
   "metadata": {
    "scrolled": true
   },
   "outputs": [],
   "source": [
    "d2=pd.read_csv(r\"C:\\Users\\ds\\Desktop\\programming\\omni_data\\thingplug_update\\last\\totalDMU3_09-17_10_21.csv\",index_col=0)\n",
    "d2=d2.reset_index()\n",
    "d2.time =pd.to_datetime(d2.time)    \n",
    "dd=d2.loc[d2.time.dt.date !=pd.to_datetime(\"2020-05-20\")]"
   ]
  },
  {
   "cell_type": "code",
   "execution_count": null,
   "metadata": {
    "scrolled": true
   },
   "outputs": [],
   "source": [
    "def data_load(path,name):\n",
    "    d2=pd.read_csv(path,index_col=0)\n",
    "    d2=d2.reset_index()\n",
    "    d2.time =pd.to_datetime(d2.time)    \n",
    "    d2=d2.loc[(d2.time > pd.to_datetime(\"2020-04-25\"))].reset_index(drop=True)\n",
    "    dd=d2.loc[d2.time.dt.date !=pd.to_datetime(\"2020-05-20\")]\n",
    "    dd=dd.reset_index(drop=True)\n",
    "    dd=dd.loc[dd.time.dt.date !=pd.to_datetime(\"2020-06-30\")]\n",
    "    dd=dd.loc[dd.time.dt.date !=pd.to_datetime(\"2020-07-10\")]\n",
    "    dd=dd.loc[dd.time.dt.date !=pd.to_datetime(\"2020-07-12\")]\n",
    "    dd=dd.loc[dd.time.dt.date !=pd.to_datetime(\"2020-07-13\")]\n",
    "    dd=dd.loc[dd.time.dt.date !=pd.to_datetime(\"2020-07-14\")]\n",
    "    dd=dd.loc[(dd.time <=pd.to_datetime(\"2020-07-23\")) | (dd.time >=pd.to_datetime(\"2020-08-06\"))]\n",
    "    \n",
    "    \n",
    "    \n",
    "    \n",
    "    \n",
    "    \n",
    "    \n",
    "    dd.columns = ['time']+[x+\"_\"+name for x in dd.columns[1:]]\n",
    "    d2r=dd.set_index('time')\n",
    "    d2m = dd.groupby(dd['time'].astype(\"<M8[m]\")).mean()\n",
    "    \n",
    "    \n",
    "    return d2r,d2m\n",
    "\n",
    "d2r,d2m =data_load(glob.glob(\"./last/*.*\")[2],'DMU2')\n",
    "d3r,d3m =data_load(glob.glob(\"./last/*.*\")[3],'DMU3')"
   ]
  },
  {
   "cell_type": "code",
   "execution_count": null,
   "metadata": {},
   "outputs": [],
   "source": [
    "d23=pd.concat([d2m,d3m],axis=1,join='inner')"
   ]
  },
  {
   "cell_type": "code",
   "execution_count": null,
   "metadata": {},
   "outputs": [],
   "source": [
    "d23.head()"
   ]
  },
  {
   "cell_type": "code",
   "execution_count": null,
   "metadata": {
    "scrolled": false
   },
   "outputs": [],
   "source": [
    "ax_ = [ax1,ax2,ax3,ax4]\n",
    "for num in range(0,198164,4000):\n",
    "    figure, (ax1,ax2,ax3,ax4) = plt.subplots(nrows=1, ncols=4)\n",
    "    figure.set_size_inches(25, 5)\n",
    "\n",
    "    ax1.plot(d23[num:num+1000]['RAW_DMU2'],label='DMU2')\n",
    "    ax1.plot(d23[num:num+1000]['RAW_DMU3'],label='DMU3')\n",
    "    ax1.legend()\n",
    "    plt.sca(ax1)\n",
    "    plt.xticks(rotation=30)\n",
    "\n",
    "    num+=1000\n",
    "    ax2.plot(d23[num:num+1000]['RAW_DMU2'],label='DMU2')\n",
    "    ax2.plot(d23[num:num+1000]['RAW_DMU3'],label='DMU3')\n",
    "    plt.sca(ax2)\n",
    "    plt.xticks(rotation=30)\n",
    "\n",
    "    num+=1000\n",
    "    ax3.plot(d23[num:num+1000]['RAW_DMU2'],label='DMU2')\n",
    "    ax3.plot(d23[num:num+1000]['RAW_DMU3'],label='DMU3')\n",
    "    plt.sca(ax3)\n",
    "    plt.xticks(rotation=30)\n",
    "\n",
    "    num+=1000\n",
    "    ax4.plot(d23[num:num+1000]['RAW_DMU2'],label='DMU2')\n",
    "    ax4.plot(d23[num:num+1000]['RAW_DMU3'],label='DMU3')\n",
    "    plt.sca(ax4)\n",
    "    plt.xticks(rotation=30)\n",
    "    \n",
    "    plt.show()"
   ]
  },
  {
   "cell_type": "code",
   "execution_count": null,
   "metadata": {},
   "outputs": [],
   "source": [
    "d23.head()"
   ]
  },
  {
   "cell_type": "code",
   "execution_count": null,
   "metadata": {
    "scrolled": true
   },
   "outputs": [],
   "source": [
    "ax_ = [ax1,ax2,ax3,ax4]\n",
    "\n",
    "rn=8000\n",
    "rn_h =int(rn/2)\n",
    "for num in range(5000,198164,rn):\n",
    "    figure, (ax1,ax2,ax3,ax4,ax5,ax6) = plt.subplots(nrows=1, ncols=6)\n",
    "    figure.set_size_inches(25, 5)\n",
    "\n",
    "    ax1.plot(d23[num:num+rn_h]['RAW_DMU2'],label='DMU2')\n",
    "    ax1.plot(d23[num:num+rn_h]['RAW_DMU3'],label='DMU3')\n",
    "    ax1.legend()\n",
    "    plt.sca(ax1)\n",
    "    plt.xticks(rotation=30)\n",
    "\n",
    "    ax2.plot(d23[num:num+rn_h]['RH_DMU2'],label='DMU2')\n",
    "    ax2.plot(d23[num:num+rn_h]['RH_DMU3'],label='DMU3')\n",
    "    ax2.legend()\n",
    "    plt.sca(ax2)\n",
    "    plt.xticks(rotation=30)\n",
    "\n",
    "    ax3.plot(d23[num:num+rn_h]['TEMP_DMU2'],label='DMU2')\n",
    "    ax3.plot(d23[num:num+rn_h]['TEMP_DMU3'],label='DMU3')\n",
    "    ax3.legend()\n",
    "    plt.sca(ax3)\n",
    "    plt.xticks(rotation=30)\n",
    "\n",
    "    num+=rn_h\n",
    "    ax4.plot(d23[num:num+rn_h]['RAW_DMU2'],label='DMU2')\n",
    "    ax4.plot(d23[num:num+rn_h]['RAW_DMU3'],label='DMU3')\n",
    "    ax4.legend()\n",
    "    plt.sca(ax4)\n",
    "    plt.xticks(rotation=30)\n",
    "    \n",
    "    ax5.plot(d23[num:num+rn_h]['RH_DMU2'],label='DMU2')\n",
    "    ax5.plot(d23[num:num+rn_h]['RH_DMU3'],label='DMU3')\n",
    "    ax5.legend()\n",
    "    plt.sca(ax5)\n",
    "    plt.xticks(rotation=30)\n",
    "    \n",
    "    ax6.plot(d23[num:num+rn_h]['TEMP_DMU2'],label='DMU2')\n",
    "    ax6.plot(d23[num:num+rn_h]['TEMP_DMU3'],label='DMU3')\n",
    "    ax6.legend()\n",
    "    plt.sca(ax6)\n",
    "    plt.xticks(rotation=30)\n",
    "    \n",
    "    \n",
    "    \n",
    "    plt.show()"
   ]
  },
  {
   "cell_type": "code",
   "execution_count": null,
   "metadata": {},
   "outputs": [],
   "source": [
    "plt.scatter(d23_pre['RAW_DMU2'],d23_pre['RAW_DMU3'])\n",
    "plt.plot(range(100),range(100),color='r')\n",
    "plt.xlabel(\"DMU2\")\n",
    "plt.ylabel(\"DMU3\")"
   ]
  },
  {
   "cell_type": "code",
   "execution_count": null,
   "metadata": {},
   "outputs": [],
   "source": [
    "d23_pre"
   ]
  },
  {
   "cell_type": "code",
   "execution_count": null,
   "metadata": {},
   "outputs": [],
   "source": [
    "d23"
   ]
  },
  {
   "cell_type": "code",
   "execution_count": null,
   "metadata": {},
   "outputs": [],
   "source": [
    "d23"
   ]
  },
  {
   "cell_type": "code",
   "execution_count": null,
   "metadata": {},
   "outputs": [],
   "source": []
  },
  {
   "cell_type": "code",
   "execution_count": null,
   "metadata": {},
   "outputs": [],
   "source": [
    "def remove_data(df):\n",
    "    df2=df.loc[df.index]"
   ]
  },
  {
   "cell_type": "code",
   "execution_count": null,
   "metadata": {},
   "outputs": [],
   "source": []
  },
  {
   "cell_type": "code",
   "execution_count": null,
   "metadata": {},
   "outputs": [],
   "source": []
  },
  {
   "cell_type": "code",
   "execution_count": null,
   "metadata": {},
   "outputs": [],
   "source": [
    "import seaborn as sns"
   ]
  },
  {
   "cell_type": "code",
   "execution_count": null,
   "metadata": {
    "scrolled": true
   },
   "outputs": [],
   "source": [
    "n=0\n",
    "\n",
    "ax_ = [ax1,ax2,ax3,ax4]\n",
    "for ww in range(400,800,4):\n",
    "    figure, (ax1,ax2,ax3,ax4) = plt.subplots(nrows=1, ncols=4)\n",
    "    figure.set_size_inches(20, 10)\n",
    "    lo1=d2.loc[(pd.to_datetime(d2.time)>=pd.to_datetime(\"2020-05-1 15:00:00\")+datetime.timedelta(hours=ww)) & (pd.to_datetime(d2.time)<pd.to_datetime(\"2020-05-1 16:00:00\")+datetime.timedelta(hours=ww))]\n",
    "    lo2=d2.loc[(pd.to_datetime(d2.time)>=pd.to_datetime(\"2020-05-1 15:00:00\")+datetime.timedelta(hours=ww+1)) & (pd.to_datetime(d2.time)<pd.to_datetime(\"2020-05-1 16:00:00\")+datetime.timedelta(hours=ww+1))]\n",
    "    lo3=d2.loc[(pd.to_datetime(d2.time)>=pd.to_datetime(\"2020-05-1 15:00:00\")+datetime.timedelta(hours=ww+2)) & (pd.to_datetime(d2.time)<pd.to_datetime(\"2020-05-1 16:00:00\")+datetime.timedelta(hours=ww+2))]\n",
    "    lo4=d2.loc[(pd.to_datetime(d2.time)>=pd.to_datetime(\"2020-05-1 15:00:00\")+datetime.timedelta(hours=ww+3)) & (pd.to_datetime(d2.time)<pd.to_datetime(\"2020-05-1 16:00:00\")+datetime.timedelta(hours=ww+3))]\n",
    "\n",
    "    sns.boxplot(lo1['RAW'].values, ax=ax1)\n",
    "    sns.boxplot(lo2['RAW'].values, ax=ax2)\n",
    "    sns.boxplot(lo3['RAW'].values, ax=ax3)\n",
    "    sns.boxplot(lo4['RAW'].values, ax=ax4)\n",
    "    plt.show()\n",
    "    \n"
   ]
  },
  {
   "cell_type": "code",
   "execution_count": null,
   "metadata": {},
   "outputs": [],
   "source": [
    "d2"
   ]
  },
  {
   "cell_type": "code",
   "execution_count": null,
   "metadata": {},
   "outputs": [],
   "source": []
  },
  {
   "cell_type": "code",
   "execution_count": null,
   "metadata": {},
   "outputs": [],
   "source": []
  },
  {
   "cell_type": "code",
   "execution_count": null,
   "metadata": {},
   "outputs": [],
   "source": []
  },
  {
   "cell_type": "code",
   "execution_count": null,
   "metadata": {},
   "outputs": [],
   "source": []
  },
  {
   "cell_type": "code",
   "execution_count": null,
   "metadata": {},
   "outputs": [],
   "source": []
  },
  {
   "cell_type": "code",
   "execution_count": null,
   "metadata": {},
   "outputs": [],
   "source": []
  },
  {
   "cell_type": "code",
   "execution_count": null,
   "metadata": {},
   "outputs": [],
   "source": [
    "plt.plot(d2['RAW'])"
   ]
  },
  {
   "cell_type": "code",
   "execution_count": null,
   "metadata": {},
   "outputs": [],
   "source": []
  },
  {
   "cell_type": "code",
   "execution_count": null,
   "metadata": {},
   "outputs": [],
   "source": []
  },
  {
   "cell_type": "code",
   "execution_count": null,
   "metadata": {},
   "outputs": [],
   "source": []
  }
 ],
 "metadata": {
  "kernelspec": {
   "display_name": "Python 3",
   "language": "python",
   "name": "python3"
  },
  "language_info": {
   "codemirror_mode": {
    "name": "ipython",
    "version": 3
   },
   "file_extension": ".py",
   "mimetype": "text/x-python",
   "name": "python",
   "nbconvert_exporter": "python",
   "pygments_lexer": "ipython3",
   "version": "3.7.6"
  }
 },
 "nbformat": 4,
 "nbformat_minor": 4
}
