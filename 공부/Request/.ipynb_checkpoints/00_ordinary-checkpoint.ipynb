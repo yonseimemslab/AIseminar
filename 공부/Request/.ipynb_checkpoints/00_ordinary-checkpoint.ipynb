{
 "cells": [
  {
   "cell_type": "code",
   "execution_count": 1,
   "metadata": {},
   "outputs": [],
   "source": [
    "%matplotlib inline"
   ]
  },
  {
   "cell_type": "markdown",
   "metadata": {},
   "source": [
    "\n",
    "Ordinary Kriging Example\n",
    "========================\n",
    "\n",
    "First we will create a 2D dataset together with the associated x, y grids.\n"
   ]
  },
  {
   "cell_type": "code",
   "execution_count": 2,
   "metadata": {},
   "outputs": [],
   "source": [
    "import numpy as np\n",
    "import pykrige.kriging_tools as kt\n",
    "from pykrige.ok import OrdinaryKriging\n",
    "import matplotlib.pyplot as plt\n",
    "\n",
    "\n",
    "data = np.array(\n",
    "    [\n",
    "        [0.3, 1.2, 0.47],\n",
    "        [1.9, 0.6, 0.56],\n",
    "        [1.1, 3.2, 0.74],\n",
    "        [3.3, 4.4, 1.47],\n",
    "        [4.7, 3.8, 1.74],\n",
    "    ]\n",
    ")\n",
    "\n",
    "gridx = np.arange(0.0, 5.5, 0.5)\n",
    "gridy = np.arange(0.0, 5.5, 0.5)"
   ]
  },
  {
   "cell_type": "markdown",
   "metadata": {},
   "source": [
    "Create the ordinary kriging object. Required inputs are the X-coordinates of\n",
    "the data points, the Y-coordinates of the data points, and the Z-values of the\n",
    "data points. If no variogram model is specified, defaults to a linear variogram\n",
    "model. If no variogram model parameters are specified, then the code automatically\n",
    "calculates the parameters by fitting the variogram model to the binned\n",
    "experimental semivariogram. The verbose kwarg controls code talk-back, and\n",
    "the enable_plotting kwarg controls the display of the semivariogram.\n",
    "\n"
   ]
  },
  {
   "cell_type": "code",
   "execution_count": 3,
   "metadata": {},
   "outputs": [],
   "source": [
    "OK = OrdinaryKriging(\n",
    "    data[:, 0],\n",
    "    data[:, 1],\n",
    "    data[:, 2],\n",
    "    variogram_model=\"linear\",\n",
    "    verbose=False,\n",
    "    enable_plotting=False,\n",
    ")"
   ]
  },
  {
   "cell_type": "markdown",
   "metadata": {},
   "source": [
    "Creates the kriged grid and the variance grid. Allows for kriging on a rectangular\n",
    "grid of points, on a masked rectangular grid of points, or with arbitrary points.\n",
    "(See OrdinaryKriging.__doc__ for more information.)\n",
    "\n"
   ]
  },
  {
   "cell_type": "code",
   "execution_count": 4,
   "metadata": {},
   "outputs": [],
   "source": [
    "z, ss = OK.execute(\"grid\", gridx, gridy)"
   ]
  },
  {
   "cell_type": "markdown",
   "metadata": {},
   "source": [
    "Writes the kriged grid to an ASCII grid file and plot it.\n",
    "\n"
   ]
  },
  {
   "cell_type": "code",
   "execution_count": 5,
   "metadata": {},
   "outputs": [
    {
     "name": "stderr",
     "output_type": "stream",
     "text": [
      "findfont: Font family ['NanumGothic'] not found. Falling back to DejaVu Sans.\n"
     ]
    },
    {
     "data": {
      "image/png": "[encoded data removed]",
      "text/plain": [
       "<Figure size 432x288 with 1 Axes>"
      ]
     },
     "metadata": {
      "needs_background": "light"
     },
     "output_type": "display_data"
    }
   ],
   "source": [
    "kt.write_asc_grid(gridx, gridy, z, filename=\"output.asc\")\n",
    "plt.imshow(z)\n",
    "plt.show()"
   ]
  },
  {
   "cell_type": "code",
   "execution_count": null,
   "metadata": {},
   "outputs": [],
   "source": []
  }
 ],
 "metadata": {
  "kernelspec": {
   "display_name": "Python 3",
   "language": "python",
   "name": "python3"
  },
  "language_info": {
   "codemirror_mode": {
    "name": "ipython",
    "version": 3
   },
   "file_extension": ".py",
   "mimetype": "text/x-python",
   "name": "python",
   "nbconvert_exporter": "python",
   "pygments_lexer": "ipython3",
   "version": "3.7.6"
  }
 },
 "nbformat": 4,
 "nbformat_minor": 1
}
