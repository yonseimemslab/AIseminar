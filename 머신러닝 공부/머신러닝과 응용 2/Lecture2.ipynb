{
 "cells": [
  {
   "cell_type": "code",
   "execution_count": 20,
   "metadata": {},
   "outputs": [],
   "source": [
    "import tensorflow as tf\n",
    "tf.compat.v1.reset_default_graph()"
   ]
  },
  {
   "cell_type": "code",
   "execution_count": 46,
   "metadata": {},
   "outputs": [
    {
     "name": "stdout",
     "output_type": "stream",
     "text": [
      "True\n",
      "x/Initializer/initial_value\n",
      "x\n",
      "x/IsInitialized/VarIsInitializedOp\n",
      "x/Assign\n",
      "x/Read/ReadVariableOp\n",
      "y/Initializer/initial_value\n",
      "y\n",
      "y/IsInitialized/VarIsInitializedOp\n",
      "y/Assign\n",
      "y/Read/ReadVariableOp\n",
      "ReadVariableOp\n",
      "mul/ReadVariableOp\n",
      "mul\n",
      "add/ReadVariableOp\n",
      "add\n",
      "add_1/y\n",
      "add_1\n"
     ]
    }
   ],
   "source": [
    "g=tf.Graph()\n",
    "with g.as_default():\n",
    "#    init_x=tf.constant_initializer(1.)\n",
    "#    init_y=tf.constant_initializer(2.)\n",
    "    x=tf.Variable(1.,name='x')\n",
    "    y=tf.Variable(2.,name='y')\n",
    "    z=x*y+y+2\n",
    "    print(x.graph is g)\n",
    "    for op in g.get_operations():\n",
    "        print(op.name)\n",
    "#        print(\"----------------------------\")\n",
    "#        for tensor in op.inputs:\n",
    "#            print(tensor)"
   ]
  },
  {
   "cell_type": "code",
   "execution_count": 50,
   "metadata": {},
   "outputs": [
    {
     "ename": "AttributeError",
     "evalue": "module 'tensorflow_core._api.v2.train' has no attribute 'Saver'",
     "output_type": "error",
     "traceback": [
      "\u001b[1;31m---------------------------------------------------------------------------\u001b[0m",
      "\u001b[1;31mAttributeError\u001b[0m                            Traceback (most recent call last)",
      "\u001b[1;32m<ipython-input-50-fc7c8442711c>\u001b[0m in \u001b[0;36m<module>\u001b[1;34m\u001b[0m\n\u001b[0;32m      5\u001b[0m     \u001b[0mz2\u001b[0m\u001b[1;33m=\u001b[0m\u001b[0mx2\u001b[0m\u001b[1;33m*\u001b[0m\u001b[0my2\u001b[0m\u001b[1;33m+\u001b[0m\u001b[0my2\u001b[0m\u001b[1;33m+\u001b[0m\u001b[1;36m2\u001b[0m\u001b[1;33m\u001b[0m\u001b[1;33m\u001b[0m\u001b[0m\n\u001b[0;32m      6\u001b[0m \u001b[1;31m#    init2=tf.global_variables_initializer()\u001b[0m\u001b[1;33m\u001b[0m\u001b[1;33m\u001b[0m\u001b[1;33m\u001b[0m\u001b[0m\n\u001b[1;32m----> 7\u001b[1;33m     \u001b[0msaver\u001b[0m\u001b[1;33m=\u001b[0m\u001b[0mtf\u001b[0m\u001b[1;33m.\u001b[0m\u001b[0mtrain\u001b[0m\u001b[1;33m.\u001b[0m\u001b[0mSaver\u001b[0m\u001b[1;33m(\u001b[0m\u001b[1;33m)\u001b[0m\u001b[1;33m\u001b[0m\u001b[1;33m\u001b[0m\u001b[0m\n\u001b[0m",
      "\u001b[1;31mAttributeError\u001b[0m: module 'tensorflow_core._api.v2.train' has no attribute 'Saver'"
     ]
    }
   ],
   "source": [
    "g2=tf.Graph()\n",
    "with g2.as_default():\n",
    "    x2=tf.Variable(1.,name='x2')\n",
    "    y2=tf.Variable(2.,name='y2')\n",
    "    z2=x2*y2+y2+2\n",
    "#    init2=tf.global_variables_initializer()\n",
    "    saver=tf.train.Saver()"
   ]
  },
  {
   "cell_type": "code",
   "execution_count": null,
   "metadata": {},
   "outputs": [],
   "source": []
  }
 ],
 "metadata": {
  "kernelspec": {
   "display_name": "Python 3",
   "language": "python",
   "name": "python3"
  },
  "language_info": {
   "codemirror_mode": {
    "name": "ipython",
    "version": 3
   },
   "file_extension": ".py",
   "mimetype": "text/x-python",
   "name": "python",
   "nbconvert_exporter": "python",
   "pygments_lexer": "ipython3",
   "version": "3.7.6"
  }
 },
 "nbformat": 4,
 "nbformat_minor": 4
}
