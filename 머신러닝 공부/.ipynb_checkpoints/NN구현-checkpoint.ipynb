{
 "cells": [
  {
   "cell_type": "code",
   "execution_count": 1,
   "metadata": {},
   "outputs": [],
   "source": [
    "from mlp import NeuralNetMLP\n",
    "import pandas as pd\n",
    "import numpy as np\n",
    "import matplotlib.pyplot as plt\n",
    "import seaborn as sns\n",
    "from sklearn.model_selection import train_test_split\n",
    "from sklearn.preprocessing import StandardScaler\n",
    "np.random.seed(0)"
   ]
  },
  {
   "cell_type": "code",
   "execution_count": 2,
   "metadata": {},
   "outputs": [],
   "source": [
    "nn=NeuralNetMLP(n_hidden=10,l2=0.0001,epochs=2000,eta=0.0001,minibatch_size=16,shuffle=True,seed=1)"
   ]
  },
  {
   "cell_type": "code",
   "execution_count": 3,
   "metadata": {},
   "outputs": [],
   "source": [
    "df=pd.read_csv('final_learning.csv',header=None)\n",
    "dataset=df.values\n",
    "X,y=dataset[:,0:3],dataset[:,3]"
   ]
  },
  {
   "cell_type": "markdown",
   "metadata": {},
   "source": [
    "test_maes_dictionary = dict()\n",
    "np.random.seed(0)\n",
    "X_train, X_test, y_train, y_test = train_test_split(X, y, test_size=0.3, random_state=2)\n",
    "y_train=np.expand_dims(y_train,1)\n",
    "y_test=np.expand_dims(y_test,1)"
   ]
  },
  {
   "cell_type": "code",
   "execution_count": 4,
   "metadata": {},
   "outputs": [],
   "source": [
    "test_maes_dictionary = dict()\n",
    "\n",
    "X_train, X_test, y_train, y_test = train_test_split(X, y, test_size=0.3, random_state=2)\n",
    "stdScaler_data = StandardScaler()\n",
    "\n",
    "X_train = stdScaler_data.fit_transform(X_train)\n",
    "\n",
    "X_test = stdScaler_data.transform(X_test)\n",
    "\n",
    "y_train=np.expand_dims(y_train,1)\n",
    "y_test=np.expand_dims(y_test,1)\n",
    "\n",
    "#stdScaler_target = StandardScaler()\n",
    "\n",
    "#y_train = stdScaler_target.fit_transform(np.expand_dims(y_train,1))  # /max(y_train)\n",
    "\n",
    "#y_test = stdScaler_target.transform(np.expand_dims(y_test,1))  # /max(y_train)\n",
    "\n",
    "#max_y_train = max(abs(y_train))\n",
    "\n",
    "#y_train = y_train / max_y_train\n",
    "\n",
    "#y_test = y_test / max_y_train"
   ]
  },
  {
   "cell_type": "code",
   "execution_count": 5,
   "metadata": {},
   "outputs": [
    {
     "data": {
      "text/plain": [
       "array([[ 1.47064315,  1.09815439, -2.35733507],\n",
       "       [ 0.81550779, -0.00276854,  0.52738364],\n",
       "       [-0.07387145, -0.58655213,  1.88209518],\n",
       "       ...,\n",
       "       [ 1.62069426, -1.02538547,  0.95137693],\n",
       "       [-0.36874667, -0.63932168,  0.06984621],\n",
       "       [-0.21297928, -0.5896222 ,  0.50897952]])"
      ]
     },
     "execution_count": 5,
     "metadata": {},
     "output_type": "execute_result"
    }
   ],
   "source": [
    "X_test"
   ]
  },
  {
   "cell_type": "code",
   "execution_count": 6,
   "metadata": {},
   "outputs": [
    {
     "name": "stderr",
     "output_type": "stream",
     "text": [
      "2000/2000 |비용: 13822.55|훈련/검증 정확도 : 270180.83 /130803.87  4 "
     ]
    },
    {
     "data": {
      "text/plain": [
       "<mlp.NeuralNetMLP at 0x215ed9059b0>"
      ]
     },
     "execution_count": 6,
     "metadata": {},
     "output_type": "execute_result"
    }
   ],
   "source": [
    "nn.fit(X_train=X_train,y_train=y_train,X_valid=X_test,y_valid=y_test)"
   ]
  },
  {
   "cell_type": "code",
   "execution_count": 7,
   "metadata": {},
   "outputs": [],
   "source": [
    "y_test_pred=nn.predict(X_test)"
   ]
  },
  {
   "cell_type": "code",
   "execution_count": 8,
   "metadata": {},
   "outputs": [
    {
     "data": {
      "text/plain": [
       "array([24, 24, 18, ..., 24, 10, 16], dtype=int64)"
      ]
     },
     "execution_count": 8,
     "metadata": {},
     "output_type": "execute_result"
    }
   ],
   "source": [
    "y_test_pred"
   ]
  },
  {
   "cell_type": "code",
   "execution_count": null,
   "metadata": {},
   "outputs": [],
   "source": [
    "data=pd.DataFrame(y_test_pred,y_test)\n",
    "data.to_csv(\"1.csv\")"
   ]
  },
  {
   "cell_type": "code",
   "execution_count": null,
   "metadata": {},
   "outputs": [],
   "source": [
    "data2=pd.DataFrame(X_test)\n",
    "data2.to_csv(\"2.csv\")"
   ]
  },
  {
   "cell_type": "code",
   "execution_count": null,
   "metadata": {},
   "outputs": [],
   "source": []
  }
 ],
 "metadata": {
  "kernelspec": {
   "display_name": "Python 3",
   "language": "python",
   "name": "python3"
  },
  "language_info": {
   "codemirror_mode": {
    "name": "ipython",
    "version": 3
   },
   "file_extension": ".py",
   "mimetype": "text/x-python",
   "name": "python",
   "nbconvert_exporter": "python",
   "pygments_lexer": "ipython3",
   "version": "3.6.6"
  }
 },
 "nbformat": 4,
 "nbformat_minor": 2
}
