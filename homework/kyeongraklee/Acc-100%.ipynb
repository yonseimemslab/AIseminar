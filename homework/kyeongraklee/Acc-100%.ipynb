{
 "cells": [
  {
   "cell_type": "code",
   "execution_count": 3,
   "metadata": {},
   "outputs": [],
   "source": [
    "import numpy as np\n",
    "import keras\n",
    "from keras import backend as K\n",
    "from keras.models import Sequential\n",
    "from keras.layers import Activation\n",
    "from keras.layers.core import Dense, Flatten\n",
    "from keras.optimizers import Adam\n",
    "from keras.metrics import categorical_crossentropy\n",
    "from keras.preprocessing.image import ImageDataGenerator\n",
    "from keras.layers.normalization import BatchNormalization\n",
    "from keras.layers.convolutional import *\n",
    "from sklearn.metrics import confusion_matrix\n",
    "import itertools"
   ]
  },
  {
   "cell_type": "code",
   "execution_count": 7,
   "metadata": {},
   "outputs": [],
   "source": [
    "from openpyxl import load_workbook\n",
    "\n",
    "wb=load_workbook(filename='airdata.xlsx')\n",
    "sheet1=wb['airdata']\n",
    "\n",
    "data_sheet1=[]\n",
    "data_sheet2=[]\n",
    "\n",
    "for r in sheet1.iter_rows(min_row=2,max_col=9):\n",
    "    \n",
    "    for cell in r:\n",
    "        if cell.value != None:\n",
    "            data_sheet1.append(float(cell.value))\n",
    "        else:\n",
    "            data_sheet1.append(float(5))\n",
    "            \n",
    "            \n",
    "for r in sheet1.iter_rows(min_row=2,min_col=10,max_col=12):\n",
    "    \n",
    "    for cell in r:\n",
    "        if cell.value != None:\n",
    "            data_sheet2.append(float(cell.value))\n",
    "        else:\n",
    "            data_sheet2.append(float(5))"
   ]
  },
  {
   "cell_type": "code",
   "execution_count": 10,
   "metadata": {},
   "outputs": [
    {
     "data": {
      "text/plain": [
       "720.0"
      ]
     },
     "execution_count": 10,
     "metadata": {},
     "output_type": "execute_result"
    }
   ],
   "source": [
    "len(data_sheet1)/9"
   ]
  },
  {
   "cell_type": "code",
   "execution_count": 11,
   "metadata": {},
   "outputs": [],
   "source": [
    "data_sheet1=np.array(data_sheet1)\n",
    "data_sheet1=data_sheet1.reshape(720,9)\n",
    "\n",
    "data_sheet2=np.array(data_sheet2)\n",
    "data_sheet2=data_sheet2.reshape(720,3)"
   ]
  },
  {
   "cell_type": "code",
   "execution_count": 12,
   "metadata": {},
   "outputs": [
    {
     "data": {
      "text/plain": [
       "array([[6.00000e+00, 9.20000e+01, 1.01906e+05, ..., 6.00000e+00,\n",
       "        8.90000e+01, 1.01877e+05],\n",
       "       [6.00000e+00, 9.20000e+01, 1.01869e+05, ..., 6.00000e+00,\n",
       "        8.90000e+01, 1.01842e+05],\n",
       "       [5.00000e+00, 9.40000e+01, 1.01837e+05, ..., 5.00000e+00,\n",
       "        9.10000e+01, 1.01812e+05],\n",
       "       ...,\n",
       "       [9.00000e+00, 9.20000e+01, 1.02024e+05, ..., 1.00000e+01,\n",
       "        8.80000e+01, 1.02009e+05],\n",
       "       [9.00000e+00, 9.60000e+01, 1.02002e+05, ..., 5.00000e+00,\n",
       "        9.40000e+01, 1.01991e+05],\n",
       "       [8.00000e+00, 1.01000e+02, 1.01972e+05, ..., 0.00000e+00,\n",
       "        9.60000e+01, 1.01968e+05]])"
      ]
     },
     "execution_count": 12,
     "metadata": {},
     "output_type": "execute_result"
    }
   ],
   "source": [
    "data_sheet1"
   ]
  },
  {
   "cell_type": "code",
   "execution_count": 13,
   "metadata": {},
   "outputs": [
    {
     "data": {
      "text/plain": [
       "array([[47., 45., 71.],\n",
       "       [44., 43., 70.],\n",
       "       [50., 49., 75.],\n",
       "       ...,\n",
       "       [37., 42., 63.],\n",
       "       [38., 44., 64.],\n",
       "       [35., 41., 60.]])"
      ]
     },
     "execution_count": 13,
     "metadata": {},
     "output_type": "execute_result"
    }
   ],
   "source": [
    "data_sheet2"
   ]
  },
  {
   "cell_type": "code",
   "execution_count": 20,
   "metadata": {},
   "outputs": [],
   "source": [
    "model = Sequential([\n",
    "    Dense(6 , input_shape=(9,),activation='relu'),\n",
    "    Dense(12, activation='relu'),\n",
    "    Dense(12, activation='relu'),\n",
    "    Dense(24, activation='relu'),\n",
    "    Dense(24, activation='relu'),\n",
    "    Dense(3)\n",
    "])"
   ]
  },
  {
   "cell_type": "code",
   "execution_count": 21,
   "metadata": {},
   "outputs": [],
   "source": [
    "model.compile(Adam(lr=.0001), loss='mean_squared_error', metrics=['accuracy'])"
   ]
  },
  {
   "cell_type": "code",
   "execution_count": 22,
   "metadata": {},
   "outputs": [
    {
     "name": "stdout",
     "output_type": "stream",
     "text": [
      "Epoch 1/40\n",
      "720/720 [==============================] - 1s 1ms/step - loss: 66595.4273 - acc: 0.5972\n",
      "Epoch 2/40\n",
      "720/720 [==============================] - 0s 525us/step - loss: 267.8286 - acc: 1.0000\n",
      "Epoch 3/40\n",
      "720/720 [==============================] - 0s 495us/step - loss: 267.6299 - acc: 1.0000\n",
      "Epoch 4/40\n",
      "720/720 [==============================] - 0s 495us/step - loss: 269.6468 - acc: 1.0000\n",
      "Epoch 5/40\n",
      "720/720 [==============================] - 0s 512us/step - loss: 269.4498 - acc: 1.0000\n",
      "Epoch 6/40\n",
      "720/720 [==============================] - 0s 505us/step - loss: 270.8179 - acc: 1.0000\n",
      "Epoch 7/40\n",
      "720/720 [==============================] - 0s 502us/step - loss: 269.7409 - acc: 1.0000\n",
      "Epoch 8/40\n",
      "720/720 [==============================] - 0s 494us/step - loss: 274.6836 - acc: 1.0000\n",
      "Epoch 9/40\n",
      "720/720 [==============================] - 0s 491us/step - loss: 269.9750 - acc: 1.0000\n",
      "Epoch 10/40\n",
      "720/720 [==============================] - 0s 514us/step - loss: 273.2426 - acc: 1.0000 0s - loss: 273.4137 - acc: 1.000\n",
      "Epoch 11/40\n",
      "720/720 [==============================] - 0s 505us/step - loss: 277.8499 - acc: 1.0000\n",
      "Epoch 12/40\n",
      "720/720 [==============================] - 0s 503us/step - loss: 276.1372 - acc: 1.0000\n",
      "Epoch 13/40\n",
      "720/720 [==============================] - 0s 516us/step - loss: 278.6947 - acc: 1.0000\n",
      "Epoch 14/40\n",
      "720/720 [==============================] - 0s 477us/step - loss: 279.5329 - acc: 1.0000\n",
      "Epoch 15/40\n",
      "720/720 [==============================] - 0s 488us/step - loss: 292.3355 - acc: 1.0000\n",
      "Epoch 16/40\n",
      "720/720 [==============================] - 0s 512us/step - loss: 284.9383 - acc: 1.0000\n",
      "Epoch 17/40\n",
      "720/720 [==============================] - 0s 507us/step - loss: 294.0372 - acc: 0.9861\n",
      "Epoch 18/40\n",
      "720/720 [==============================] - 0s 489us/step - loss: 284.1383 - acc: 1.0000\n",
      "Epoch 19/40\n",
      "720/720 [==============================] - 0s 506us/step - loss: 285.5130 - acc: 0.9917\n",
      "Epoch 20/40\n",
      "720/720 [==============================] - 0s 487us/step - loss: 291.2047 - acc: 1.0000\n",
      "Epoch 21/40\n",
      "720/720 [==============================] - 0s 512us/step - loss: 300.9886 - acc: 0.9806\n",
      "Epoch 22/40\n",
      "720/720 [==============================] - 0s 500us/step - loss: 300.7565 - acc: 0.9722\n",
      "Epoch 23/40\n",
      "720/720 [==============================] - 0s 502us/step - loss: 292.3887 - acc: 0.9861\n",
      "Epoch 24/40\n",
      "720/720 [==============================] - 0s 505us/step - loss: 291.2149 - acc: 1.0000\n",
      "Epoch 25/40\n",
      "720/720 [==============================] - 0s 519us/step - loss: 300.6424 - acc: 0.9778\n",
      "Epoch 26/40\n",
      "720/720 [==============================] - 0s 491us/step - loss: 284.9209 - acc: 0.9861: 0s - loss: 274.0646 - acc: 0.98\n",
      "Epoch 27/40\n",
      "720/720 [==============================] - 0s 539us/step - loss: 280.7052 - acc: 0.9944\n",
      "Epoch 28/40\n",
      "720/720 [==============================] - 0s 488us/step - loss: 293.1696 - acc: 0.9861\n",
      "Epoch 29/40\n",
      "720/720 [==============================] - 0s 495us/step - loss: 291.0737 - acc: 1.0000\n",
      "Epoch 30/40\n",
      "720/720 [==============================] - 0s 503us/step - loss: 285.9601 - acc: 0.9917\n",
      "Epoch 31/40\n",
      "720/720 [==============================] - 0s 516us/step - loss: 289.9704 - acc: 1.0000\n",
      "Epoch 32/40\n",
      "720/720 [==============================] - 0s 499us/step - loss: 294.1310 - acc: 1.0000\n",
      "Epoch 33/40\n",
      "720/720 [==============================] - 0s 489us/step - loss: 292.0983 - acc: 0.9806\n",
      "Epoch 34/40\n",
      "720/720 [==============================] - 0s 520us/step - loss: 286.4152 - acc: 0.9917\n",
      "Epoch 35/40\n",
      "720/720 [==============================] - 0s 488us/step - loss: 289.9170 - acc: 1.0000\n",
      "Epoch 36/40\n",
      "720/720 [==============================] - 0s 496us/step - loss: 279.6376 - acc: 1.0000\n",
      "Epoch 37/40\n",
      "720/720 [==============================] - 0s 484us/step - loss: 281.4045 - acc: 1.0000\n",
      "Epoch 38/40\n",
      "720/720 [==============================] - 0s 503us/step - loss: 283.0067 - acc: 0.9944\n",
      "Epoch 39/40\n",
      "720/720 [==============================] - 0s 500us/step - loss: 278.7233 - acc: 1.0000\n",
      "Epoch 40/40\n",
      "720/720 [==============================] - 0s 484us/step - loss: 279.4138 - acc: 1.0000\n"
     ]
    },
    {
     "data": {
      "text/plain": [
       "<keras.callbacks.History at 0x2cecd3f16a0>"
      ]
     },
     "execution_count": 22,
     "metadata": {},
     "output_type": "execute_result"
    }
   ],
   "source": [
    "model.fit(data_sheet1,data_sheet2, batch_size=2, epochs=40, shuffle=True, verbose=1)"
   ]
  },
  {
   "cell_type": "code",
   "execution_count": 23,
   "metadata": {},
   "outputs": [
    {
     "data": {
      "text/plain": [
       "array([[22.398706, 19.024021, 33.82525 ],\n",
       "       [22.39358 , 19.019993, 33.81765 ],\n",
       "       [22.377893, 19.006565, 33.794044],\n",
       "       [22.375696, 19.004673, 33.790703],\n",
       "       [22.366663, 18.997227, 33.777275],\n",
       "       [22.363855, 18.99509 , 33.773018],\n",
       "       [22.382227, 19.010227, 33.800453],\n",
       "       [22.381617, 19.009678, 33.799553],\n",
       "       [22.369715, 18.9995  , 33.781532],\n",
       "       [22.362375, 18.993275, 33.770424]], dtype=float32)"
      ]
     },
     "execution_count": 23,
     "metadata": {},
     "output_type": "execute_result"
    }
   ],
   "source": [
    "model.predict(x=data_sheet1[0:10])"
   ]
  },
  {
   "cell_type": "code",
   "execution_count": 24,
   "metadata": {},
   "outputs": [
    {
     "data": {
      "text/plain": [
       "array([[47., 45., 71.],\n",
       "       [44., 43., 70.],\n",
       "       [50., 49., 75.],\n",
       "       [53., 52., 78.],\n",
       "       [45., 44., 71.],\n",
       "       [46., 45., 70.],\n",
       "       [36., 34., 58.],\n",
       "       [28., 26., 46.],\n",
       "       [21., 18., 32.],\n",
       "       [15., 13., 21.]])"
      ]
     },
     "execution_count": 24,
     "metadata": {},
     "output_type": "execute_result"
    }
   ],
   "source": [
    "data_sheet2[0:10]"
   ]
  },
  {
   "cell_type": "code",
   "execution_count": null,
   "metadata": {},
   "outputs": [],
   "source": []
  }
 ],
 "metadata": {
  "kernelspec": {
   "display_name": "Python 3",
   "language": "python",
   "name": "python3"
  },
  "language_info": {
   "codemirror_mode": {
    "name": "ipython",
    "version": 3
   },
   "file_extension": ".py",
   "mimetype": "text/x-python",
   "name": "python",
   "nbconvert_exporter": "python",
   "pygments_lexer": "ipython3",
   "version": "3.6.8"
  }
 },
 "nbformat": 4,
 "nbformat_minor": 2
}
