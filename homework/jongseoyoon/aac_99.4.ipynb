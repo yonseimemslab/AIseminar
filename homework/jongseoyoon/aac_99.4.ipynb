{
 "cells": [
  {
   "cell_type": "code",
   "execution_count": 1,
   "metadata": {},
   "outputs": [
    {
     "name": "stderr",
     "output_type": "stream",
     "text": [
      "Using TensorFlow backend.\n"
     ]
    }
   ],
   "source": [
    "import numpy as np\n",
    "import keras\n",
    "from keras import backend as K\n",
    "from keras.models import Sequential\n",
    "from keras.layers import Activation\n",
    "from keras.layers.core import Dense, Flatten\n",
    "from keras.optimizers import Adam\n",
    "from keras.metrics import categorical_crossentropy"
   ]
  },
  {
   "cell_type": "code",
   "execution_count": 16,
   "metadata": {},
   "outputs": [],
   "source": [
    "from openpyxl import load_workbook\n",
    "\n",
    "wb=load_workbook(filename='downloads/airdata.xlsx')\n",
    "sheet1=wb['airdata']\n",
    "\n",
    "data_sheet=[]\n",
    "data_sheet2=[]\n",
    "\n",
    "for r in sheet1.iter_rows(min_row=2,max_col=9):\n",
    "   \n",
    "    for cell in r:\n",
    "        if cell.value != None:\n",
    "            data_sheet.append(float(cell.value))\n",
    "        else:\n",
    "            data_sheet.append(float(5))\n",
    "        \n",
    "    \n",
    "for r in sheet1.iter_rows(min_row=2,min_col=10,max_col=12):\n",
    "    \n",
    "    for cell in r:\n",
    "        if cell.value != None:\n",
    "            data_sheet2.append(float(cell.value))\n",
    "        else:\n",
    "            data_sheet2.append(float(5))\n"
   ]
  },
  {
   "cell_type": "code",
   "execution_count": 17,
   "metadata": {
    "scrolled": false
   },
   "outputs": [
    {
     "data": {
      "text/plain": [
       "668.0"
      ]
     },
     "execution_count": 17,
     "metadata": {},
     "output_type": "execute_result"
    }
   ],
   "source": [
    "len(data_sheet)/9"
   ]
  },
  {
   "cell_type": "code",
   "execution_count": 19,
   "metadata": {},
   "outputs": [],
   "source": [
    "data_sheet=np.array(data_sheet)\n",
    "data_sheet=data_sheet.reshape(668,9)\n",
    "\n",
    "data_sheet2=np.array(data_sheet2)\n",
    "data_sheet2=data_sheet2.reshape(668,3)"
   ]
  },
  {
   "cell_type": "code",
   "execution_count": 20,
   "metadata": {},
   "outputs": [
    {
     "data": {
      "text/plain": [
       "array([[6.00000e+00, 9.20000e+01, 1.01906e+05, ..., 6.00000e+00,\n",
       "        8.90000e+01, 1.01877e+05],\n",
       "       [6.00000e+00, 9.20000e+01, 1.01869e+05, ..., 6.00000e+00,\n",
       "        8.90000e+01, 1.01842e+05],\n",
       "       [5.00000e+00, 9.40000e+01, 1.01837e+05, ..., 5.00000e+00,\n",
       "        9.10000e+01, 1.01812e+05],\n",
       "       ...,\n",
       "       [9.00000e+00, 9.20000e+01, 1.02024e+05, ..., 1.00000e+01,\n",
       "        8.80000e+01, 1.02009e+05],\n",
       "       [9.00000e+00, 9.60000e+01, 1.02002e+05, ..., 5.00000e+00,\n",
       "        9.40000e+01, 1.01991e+05],\n",
       "       [8.00000e+00, 1.01000e+02, 1.01972e+05, ..., 0.00000e+00,\n",
       "        9.60000e+01, 1.01968e+05]])"
      ]
     },
     "execution_count": 20,
     "metadata": {},
     "output_type": "execute_result"
    }
   ],
   "source": [
    "data_sheet"
   ]
  },
  {
   "cell_type": "code",
   "execution_count": 49,
   "metadata": {},
   "outputs": [],
   "source": [
    "model = Sequential([\n",
    "    Dense(9 , input_shape=(9,),activation='relu'),\n",
    "    Dense(18, activation='relu'),\n",
    "    Dense(18, activation='relu'),\n",
    "    Dense(36, activation='relu'),\n",
    "    Dense(36, activation='relu'),\n",
    "    Dense(3)\n",
    "])"
   ]
  },
  {
   "cell_type": "code",
   "execution_count": 50,
   "metadata": {},
   "outputs": [],
   "source": [
    "model.compile(Adam(lr=.0001), loss='mean_squared_error', metrics=['accuracy'])"
   ]
  },
  {
   "cell_type": "code",
   "execution_count": 51,
   "metadata": {},
   "outputs": [
    {
     "name": "stdout",
     "output_type": "stream",
     "text": [
      "Epoch 1/40\n",
      "668/668 [==============================] - 1s 1ms/step - loss: 208785.5513 - acc: 0.0000e+00\n",
      "Epoch 2/40\n",
      "668/668 [==============================] - 0s 334us/step - loss: 270.4575 - acc: 0.9566\n",
      "Epoch 3/40\n",
      "668/668 [==============================] - 0s 317us/step - loss: 261.6119 - acc: 1.0000\n",
      "Epoch 4/40\n",
      "668/668 [==============================] - 0s 300us/step - loss: 261.5626 - acc: 1.0000\n",
      "Epoch 5/40\n",
      "668/668 [==============================] - 0s 306us/step - loss: 263.6574 - acc: 1.0000\n",
      "Epoch 6/40\n",
      "668/668 [==============================] - 0s 333us/step - loss: 265.8462 - acc: 1.0000\n",
      "Epoch 7/40\n",
      "668/668 [==============================] - 0s 299us/step - loss: 266.4005 - acc: 1.0000\n",
      "Epoch 8/40\n",
      "668/668 [==============================] - 0s 302us/step - loss: 265.3085 - acc: 1.0000\n",
      "Epoch 9/40\n",
      "668/668 [==============================] - 0s 305us/step - loss: 266.2915 - acc: 1.0000\n",
      "Epoch 10/40\n",
      "668/668 [==============================] - 0s 325us/step - loss: 268.6367 - acc: 1.0000\n",
      "Epoch 11/40\n",
      "668/668 [==============================] - 0s 334us/step - loss: 270.9041 - acc: 1.0000\n",
      "Epoch 12/40\n",
      "668/668 [==============================] - 0s 318us/step - loss: 270.9269 - acc: 1.0000 0s - loss: 273.9644 - acc: 1.000\n",
      "Epoch 13/40\n",
      "668/668 [==============================] - 0s 297us/step - loss: 270.9290 - acc: 1.0000\n",
      "Epoch 14/40\n",
      "668/668 [==============================] - 0s 300us/step - loss: 269.5317 - acc: 1.0000\n",
      "Epoch 15/40\n",
      "668/668 [==============================] - 0s 300us/step - loss: 272.0519 - acc: 1.0000\n",
      "Epoch 16/40\n",
      "668/668 [==============================] - 0s 348us/step - loss: 268.5006 - acc: 1.0000\n",
      "Epoch 17/40\n",
      "668/668 [==============================] - 0s 305us/step - loss: 277.6721 - acc: 0.9985\n",
      "Epoch 18/40\n",
      "668/668 [==============================] - 0s 302us/step - loss: 286.7486 - acc: 0.9985\n",
      "Epoch 19/40\n",
      "668/668 [==============================] - 0s 299us/step - loss: 280.7887 - acc: 0.9955\n",
      "Epoch 20/40\n",
      "668/668 [==============================] - 0s 296us/step - loss: 285.7508 - acc: 1.0000\n",
      "Epoch 21/40\n",
      "668/668 [==============================] - 0s 322us/step - loss: 283.7819 - acc: 1.0000\n",
      "Epoch 22/40\n",
      "668/668 [==============================] - 0s 299us/step - loss: 289.5961 - acc: 1.0000\n",
      "Epoch 23/40\n",
      "668/668 [==============================] - 0s 306us/step - loss: 276.9443 - acc: 1.0000\n",
      "Epoch 24/40\n",
      "668/668 [==============================] - 0s 300us/step - loss: 283.4002 - acc: 0.9985\n",
      "Epoch 25/40\n",
      "668/668 [==============================] - 0s 357us/step - loss: 285.9693 - acc: 1.0000\n",
      "Epoch 26/40\n",
      "668/668 [==============================] - 0s 337us/step - loss: 278.7480 - acc: 1.0000\n",
      "Epoch 27/40\n",
      "668/668 [==============================] - 0s 328us/step - loss: 277.2271 - acc: 1.0000\n",
      "Epoch 28/40\n",
      "668/668 [==============================] - 0s 324us/step - loss: 286.0592 - acc: 1.0000\n",
      "Epoch 29/40\n",
      "668/668 [==============================] - 0s 372us/step - loss: 281.1778 - acc: 1.0000\n",
      "Epoch 30/40\n",
      "668/668 [==============================] - 0s 363us/step - loss: 295.2974 - acc: 0.9940\n",
      "Epoch 31/40\n",
      "668/668 [==============================] - 0s 315us/step - loss: 276.2081 - acc: 0.9985\n",
      "Epoch 32/40\n",
      "668/668 [==============================] - 0s 302us/step - loss: 274.2078 - acc: 0.9880\n",
      "Epoch 33/40\n",
      "668/668 [==============================] - 0s 311us/step - loss: 274.4334 - acc: 1.0000\n",
      "Epoch 34/40\n",
      "668/668 [==============================] - 0s 299us/step - loss: 276.8824 - acc: 0.9955\n",
      "Epoch 35/40\n",
      "668/668 [==============================] - 0s 328us/step - loss: 283.6767 - acc: 1.0000\n",
      "Epoch 36/40\n",
      "668/668 [==============================] - 0s 303us/step - loss: 270.1653 - acc: 1.0000\n",
      "Epoch 37/40\n",
      "668/668 [==============================] - 0s 302us/step - loss: 289.2576 - acc: 0.9985\n",
      "Epoch 38/40\n",
      "668/668 [==============================] - 0s 312us/step - loss: 263.5582 - acc: 0.9970\n",
      "Epoch 39/40\n",
      "668/668 [==============================] - 0s 309us/step - loss: 277.2122 - acc: 1.0000\n",
      "Epoch 40/40\n",
      "668/668 [==============================] - 0s 354us/step - loss: 279.3479 - acc: 0.9940\n"
     ]
    },
    {
     "data": {
      "text/plain": [
       "<keras.callbacks.History at 0x173aa0f6cc0>"
      ]
     },
     "execution_count": 51,
     "metadata": {},
     "output_type": "execute_result"
    }
   ],
   "source": [
    "model.fit(data_sheet,data_sheet2, batch_size=2, epochs=40, shuffle=True, verbose=1)"
   ]
  },
  {
   "cell_type": "code",
   "execution_count": null,
   "metadata": {},
   "outputs": [],
   "source": []
  }
 ],
 "metadata": {
  "kernelspec": {
   "display_name": "Python 3",
   "language": "python",
   "name": "python3"
  },
  "language_info": {
   "codemirror_mode": {
    "name": "ipython",
    "version": 3
   },
   "file_extension": ".py",
   "mimetype": "text/x-python",
   "name": "python",
   "nbconvert_exporter": "python",
   "pygments_lexer": "ipython3",
   "version": "3.6.8"
  }
 },
 "nbformat": 4,
 "nbformat_minor": 2
}
