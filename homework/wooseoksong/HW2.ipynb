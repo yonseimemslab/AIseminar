{
 "cells": [
  {
   "cell_type": "code",
   "execution_count": 5,
   "metadata": {},
   "outputs": [],
   "source": [
    "import numpy as np\n",
    "import keras\n",
    "from keras import backend as K\n",
    "from keras.models import Sequential\n",
    "from keras.layers import Activation\n",
    "from keras.layers.core import Dense, Flatten\n",
    "from keras.optimizers import Adam\n",
    "from keras.metrics import categorical_crossentropy\n",
    "from keras.preprocessing.image import ImageDataGenerator\n",
    "from keras.layers.normalization import BatchNormalization\n",
    "from keras.layers.convolutional import *\n",
    "from sklearn.metrics import confusion_matrix\n",
    "import itertools\n"
   ]
  },
  {
   "cell_type": "code",
   "execution_count": 8,
   "metadata": {},
   "outputs": [],
   "source": [
    "from openpyxl import load_workbook\n",
    "\n",
    "wb=load_workbook(filename='airdata.xlsx')\n",
    "sheet1=wb['airdata']\n",
    "\n",
    "data_sheet1=[]\n",
    "data_sheet2=[]\n",
    "\n",
    "for r in sheet1.iter_rows(min_row=2,max_col=9):\n",
    "   \n",
    "    for cell in r:\n",
    "        if cell.value != None:\n",
    "            data_sheet1.append(float(cell.value))\n",
    "        else:\n",
    "            data_sheet1.append(float(5))\n",
    "        \n",
    "    \n",
    "for r in sheet1.iter_rows(min_row=2,min_col=10,max_col=12):\n",
    "    \n",
    "    for cell in r:\n",
    "        if cell.value != None:\n",
    "            data_sheet2.append(float(cell.value))\n",
    "        else:\n",
    "            data_sheet2.append(float(5))"
   ]
  },
  {
   "cell_type": "code",
   "execution_count": 11,
   "metadata": {},
   "outputs": [],
   "source": [
    "data_sheet1=np.array(data_sheet1)\n",
    "data_sheet1=data_sheet1.reshape(720,9)\n",
    "\n",
    "data_sheet2=np.array(data_sheet2)\n",
    "data_sheet2=data_sheet2.reshape(720,3)"
   ]
  },
  {
   "cell_type": "code",
   "execution_count": 12,
   "metadata": {},
   "outputs": [
    {
     "data": {
      "text/plain": [
       "array([[6.00000e+00, 9.20000e+01, 1.01906e+05, ..., 6.00000e+00,\n",
       "        8.90000e+01, 1.01877e+05],\n",
       "       [6.00000e+00, 9.20000e+01, 1.01869e+05, ..., 6.00000e+00,\n",
       "        8.90000e+01, 1.01842e+05],\n",
       "       [5.00000e+00, 9.40000e+01, 1.01837e+05, ..., 5.00000e+00,\n",
       "        9.10000e+01, 1.01812e+05],\n",
       "       ...,\n",
       "       [9.00000e+00, 9.20000e+01, 1.02024e+05, ..., 1.00000e+01,\n",
       "        8.80000e+01, 1.02009e+05],\n",
       "       [9.00000e+00, 9.60000e+01, 1.02002e+05, ..., 5.00000e+00,\n",
       "        9.40000e+01, 1.01991e+05],\n",
       "       [8.00000e+00, 1.01000e+02, 1.01972e+05, ..., 0.00000e+00,\n",
       "        9.60000e+01, 1.01968e+05]])"
      ]
     },
     "execution_count": 12,
     "metadata": {},
     "output_type": "execute_result"
    }
   ],
   "source": [
    "data_sheet1"
   ]
  },
  {
   "cell_type": "code",
   "execution_count": 13,
   "metadata": {},
   "outputs": [
    {
     "data": {
      "text/plain": [
       "array([[47., 45., 71.],\n",
       "       [44., 43., 70.],\n",
       "       [50., 49., 75.],\n",
       "       ...,\n",
       "       [37., 42., 63.],\n",
       "       [38., 44., 64.],\n",
       "       [35., 41., 60.]])"
      ]
     },
     "execution_count": 13,
     "metadata": {},
     "output_type": "execute_result"
    }
   ],
   "source": [
    "data_sheet2"
   ]
  },
  {
   "cell_type": "code",
   "execution_count": 20,
   "metadata": {},
   "outputs": [],
   "source": [
    "model = Sequential([\n",
    "    Dense(9 , input_shape=(9,),activation='relu'),\n",
    "    Dense(54, activation='relu'),\n",
    "    Dense(54, activation='relu'),\n",
    "    Dense(54, activation='relu'),\n",
    "    Dense(54, activation='relu'),\n",
    "    Dense(3)\n",
    "])"
   ]
  },
  {
   "cell_type": "code",
   "execution_count": 21,
   "metadata": {},
   "outputs": [],
   "source": [
    "model.compile(Adam(lr=.0001), loss='mean_squared_error', metrics=['accuracy'])"
   ]
  },
  {
   "cell_type": "code",
   "execution_count": 23,
   "metadata": {},
   "outputs": [
    {
     "name": "stdout",
     "output_type": "stream",
     "text": [
      "Epoch 1/60\n",
      "720/720 [==============================] - 0s 565us/step - loss: 636.1062 - acc: 0.6111\n",
      "Epoch 2/60\n",
      "720/720 [==============================] - 0s 525us/step - loss: 506.1411 - acc: 0.6833\n",
      "Epoch 3/60\n",
      "720/720 [==============================] - 0s 534us/step - loss: 519.9244 - acc: 0.6500\n",
      "Epoch 4/60\n",
      "720/720 [==============================] - 0s 556us/step - loss: 513.7964 - acc: 0.7056\n",
      "Epoch 5/60\n",
      "720/720 [==============================] - 0s 583us/step - loss: 460.9081 - acc: 0.7306\n",
      "Epoch 6/60\n",
      "720/720 [==============================] - 0s 532us/step - loss: 429.8936 - acc: 0.7861\n",
      "Epoch 7/60\n",
      "720/720 [==============================] - 0s 589us/step - loss: 430.8488 - acc: 0.7583\n",
      "Epoch 8/60\n",
      "720/720 [==============================] - 0s 493us/step - loss: 445.7479 - acc: 0.7778\n",
      "Epoch 9/60\n",
      "720/720 [==============================] - 0s 518us/step - loss: 410.5889 - acc: 0.8361\n",
      "Epoch 10/60\n",
      "720/720 [==============================] - 0s 461us/step - loss: 395.5775 - acc: 0.8139\n",
      "Epoch 11/60\n",
      "720/720 [==============================] - 0s 469us/step - loss: 389.3543 - acc: 0.8167\n",
      "Epoch 12/60\n",
      "720/720 [==============================] - 0s 433us/step - loss: 377.1848 - acc: 0.8694\n",
      "Epoch 13/60\n",
      "720/720 [==============================] - 0s 438us/step - loss: 371.5565 - acc: 0.9111\n",
      "Epoch 14/60\n",
      "720/720 [==============================] - 0s 473us/step - loss: 368.6861 - acc: 0.8556\n",
      "Epoch 15/60\n",
      "720/720 [==============================] - 0s 491us/step - loss: 329.6229 - acc: 0.9306\n",
      "Epoch 16/60\n",
      "720/720 [==============================] - 0s 466us/step - loss: 329.5473 - acc: 0.9361\n",
      "Epoch 17/60\n",
      "720/720 [==============================] - 0s 452us/step - loss: 333.5791 - acc: 0.9278\n",
      "Epoch 18/60\n",
      "720/720 [==============================] - 0s 461us/step - loss: 316.8080 - acc: 0.9667\n",
      "Epoch 19/60\n",
      "720/720 [==============================] - 0s 444us/step - loss: 338.7014 - acc: 0.9556\n",
      "Epoch 20/60\n",
      "720/720 [==============================] - 0s 461us/step - loss: 330.5820 - acc: 0.9556\n",
      "Epoch 21/60\n",
      "720/720 [==============================] - 0s 449us/step - loss: 288.6690 - acc: 0.9806\n",
      "Epoch 22/60\n",
      "720/720 [==============================] - 0s 427us/step - loss: 296.9395 - acc: 0.9861\n",
      "Epoch 23/60\n",
      "720/720 [==============================] - 0s 508us/step - loss: 285.2848 - acc: 1.0000\n",
      "Epoch 24/60\n",
      "720/720 [==============================] - 0s 510us/step - loss: 288.1900 - acc: 1.0000\n",
      "Epoch 25/60\n",
      "720/720 [==============================] - 0s 430us/step - loss: 291.3259 - acc: 1.0000\n",
      "Epoch 26/60\n",
      "720/720 [==============================] - 0s 449us/step - loss: 286.6839 - acc: 1.0000\n",
      "Epoch 27/60\n",
      "720/720 [==============================] - 0s 459us/step - loss: 285.9299 - acc: 1.0000\n",
      "Epoch 28/60\n",
      "720/720 [==============================] - 0s 426us/step - loss: 278.2159 - acc: 1.0000\n",
      "Epoch 29/60\n",
      "720/720 [==============================] - 0s 499us/step - loss: 279.8362 - acc: 1.0000\n",
      "Epoch 30/60\n",
      "720/720 [==============================] - 0s 460us/step - loss: 277.1518 - acc: 1.0000\n",
      "Epoch 31/60\n",
      "720/720 [==============================] - 0s 445us/step - loss: 275.9687 - acc: 1.0000\n",
      "Epoch 32/60\n",
      "720/720 [==============================] - 0s 462us/step - loss: 275.1629 - acc: 1.0000\n",
      "Epoch 33/60\n",
      "720/720 [==============================] - 0s 487us/step - loss: 277.3086 - acc: 1.0000\n",
      "Epoch 34/60\n",
      "720/720 [==============================] - 0s 451us/step - loss: 269.6630 - acc: 1.0000\n",
      "Epoch 35/60\n",
      "720/720 [==============================] - 0s 500us/step - loss: 276.4185 - acc: 1.0000\n",
      "Epoch 36/60\n",
      "720/720 [==============================] - 0s 452us/step - loss: 269.9672 - acc: 1.0000s - loss: 156.0620 - acc: 1\n",
      "Epoch 37/60\n",
      "720/720 [==============================] - 0s 444us/step - loss: 275.4547 - acc: 1.0000\n",
      "Epoch 38/60\n",
      "720/720 [==============================] - 0s 460us/step - loss: 271.8672 - acc: 1.0000\n",
      "Epoch 39/60\n",
      "720/720 [==============================] - 0s 442us/step - loss: 268.9910 - acc: 1.0000\n",
      "Epoch 40/60\n",
      "720/720 [==============================] - 0s 447us/step - loss: 275.5756 - acc: 1.0000\n",
      "Epoch 41/60\n",
      "720/720 [==============================] - 0s 485us/step - loss: 270.5911 - acc: 1.0000\n",
      "Epoch 42/60\n",
      "720/720 [==============================] - 0s 531us/step - loss: 263.3490 - acc: 1.0000\n",
      "Epoch 43/60\n",
      "720/720 [==============================] - 0s 467us/step - loss: 265.9619 - acc: 1.0000\n",
      "Epoch 44/60\n",
      "720/720 [==============================] - 0s 437us/step - loss: 264.3584 - acc: 1.0000\n",
      "Epoch 45/60\n",
      "720/720 [==============================] - 0s 445us/step - loss: 267.5840 - acc: 1.0000\n",
      "Epoch 46/60\n",
      "720/720 [==============================] - 0s 459us/step - loss: 268.7123 - acc: 1.0000\n",
      "Epoch 47/60\n",
      "720/720 [==============================] - 0s 470us/step - loss: 268.5114 - acc: 1.0000\n",
      "Epoch 48/60\n",
      "720/720 [==============================] - 0s 461us/step - loss: 262.6735 - acc: 1.0000\n",
      "Epoch 49/60\n",
      "720/720 [==============================] - 0s 441us/step - loss: 261.0650 - acc: 1.0000\n",
      "Epoch 50/60\n",
      "720/720 [==============================] - 0s 489us/step - loss: 260.2761 - acc: 1.0000\n",
      "Epoch 51/60\n",
      "720/720 [==============================] - 0s 563us/step - loss: 263.3971 - acc: 1.0000\n",
      "Epoch 52/60\n",
      "720/720 [==============================] - 0s 481us/step - loss: 260.3279 - acc: 1.0000\n",
      "Epoch 53/60\n",
      "720/720 [==============================] - 0s 481us/step - loss: 256.3284 - acc: 1.0000\n",
      "Epoch 54/60\n",
      "720/720 [==============================] - 0s 456us/step - loss: 255.7875 - acc: 1.0000\n",
      "Epoch 55/60\n",
      "720/720 [==============================] - 0s 449us/step - loss: 259.5348 - acc: 1.0000\n",
      "Epoch 56/60\n",
      "720/720 [==============================] - 0s 449us/step - loss: 254.0451 - acc: 1.0000\n",
      "Epoch 57/60\n",
      "720/720 [==============================] - 0s 424us/step - loss: 254.1117 - acc: 1.0000\n",
      "Epoch 58/60\n",
      "720/720 [==============================] - 0s 464us/step - loss: 249.9959 - acc: 1.0000\n",
      "Epoch 59/60\n",
      "720/720 [==============================] - 0s 482us/step - loss: 247.7532 - acc: 1.0000\n",
      "Epoch 60/60\n",
      "720/720 [==============================] - 0s 517us/step - loss: 250.5175 - acc: 1.0000\n"
     ]
    },
    {
     "data": {
      "text/plain": [
       "<keras.callbacks.History at 0x229b2929278>"
      ]
     },
     "execution_count": 23,
     "metadata": {},
     "output_type": "execute_result"
    }
   ],
   "source": [
    "model.fit(data_sheet1,data_sheet2, batch_size=2, epochs=60, shuffle=True, verbose=1)"
   ]
  },
  {
   "cell_type": "code",
   "execution_count": 24,
   "metadata": {},
   "outputs": [
    {
     "data": {
      "text/plain": [
       "array([[26.57761 , 25.337715, 41.640717],\n",
       "       [26.779049, 25.529787, 41.956253],\n",
       "       [25.833385, 24.628077, 40.475018],\n",
       "       [25.425545, 24.23918 , 39.83618 ],\n",
       "       [25.039392, 23.870981, 39.231327],\n",
       "       [24.66336 , 23.512415, 38.642334],\n",
       "       [25.43697 , 24.250067, 39.854076],\n",
       "       [25.022388, 23.854773, 39.20471 ],\n",
       "       [24.133022, 23.006721, 37.81163 ],\n",
       "       [22.598104, 21.543148, 35.40742 ],\n",
       "       [21.788895, 20.771555, 34.139915],\n",
       "       [21.884724, 20.862923, 34.29003 ],\n",
       "       [22.088104, 21.056856, 34.60858 ],\n",
       "       [22.182238, 21.146597, 34.75602 ],\n",
       "       [21.499245, 20.49536 , 33.686234],\n",
       "       [21.583397, 20.57561 , 33.818054],\n",
       "       [21.723108, 20.708824, 34.03688 ],\n",
       "       [22.625343, 21.569124, 35.450096],\n",
       "       [23.26312 , 22.17727 , 36.449093],\n",
       "       [24.099245, 22.974514, 37.758743]], dtype=float32)"
      ]
     },
     "execution_count": 24,
     "metadata": {},
     "output_type": "execute_result"
    }
   ],
   "source": [
    "model.predict(x=data_sheet1[0:20])"
   ]
  },
  {
   "cell_type": "code",
   "execution_count": 25,
   "metadata": {},
   "outputs": [
    {
     "data": {
      "text/plain": [
       "array([[47., 45., 71.],\n",
       "       [44., 43., 70.],\n",
       "       [50., 49., 75.],\n",
       "       [53., 52., 78.],\n",
       "       [45., 44., 71.],\n",
       "       [46., 45., 70.],\n",
       "       [36., 34., 58.],\n",
       "       [28., 26., 46.],\n",
       "       [21., 18., 32.],\n",
       "       [15., 13., 21.],\n",
       "       [13., 11., 18.],\n",
       "       [13., 11., 18.],\n",
       "       [12., 11., 17.],\n",
       "       [12., 10., 16.],\n",
       "       [12., 10., 16.],\n",
       "       [11.,  9., 15.],\n",
       "       [11.,  9., 15.],\n",
       "       [17., 15., 25.],\n",
       "       [43., 42., 65.],\n",
       "       [45., 45., 68.]])"
      ]
     },
     "execution_count": 25,
     "metadata": {},
     "output_type": "execute_result"
    }
   ],
   "source": [
    "data_sheet2[0:20]"
   ]
  },
  {
   "cell_type": "code",
   "execution_count": null,
   "metadata": {},
   "outputs": [],
   "source": []
  }
 ],
 "metadata": {
  "kernelspec": {
   "display_name": "Python 3",
   "language": "python",
   "name": "python3"
  },
  "language_info": {
   "codemirror_mode": {
    "name": "ipython",
    "version": 3
   },
   "file_extension": ".py",
   "mimetype": "text/x-python",
   "name": "python",
   "nbconvert_exporter": "python",
   "pygments_lexer": "ipython3",
   "version": "3.6.8"
  }
 },
 "nbformat": 4,
 "nbformat_minor": 2
}
