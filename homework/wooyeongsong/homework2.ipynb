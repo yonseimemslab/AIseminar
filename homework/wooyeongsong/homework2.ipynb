{
 "cells": [
  {
   "cell_type": "code",
   "execution_count": 15,
   "metadata": {},
   "outputs": [],
   "source": [
    "import numpy as np\n",
    "import keras\n",
    "from keras import backend as K\n",
    "from keras.models import Sequential\n",
    "from keras.layers import Activation\n",
    "from keras.layers.core import Dense, Flatten\n",
    "from keras.optimizers import Adam\n",
    "from keras.metrics import categorical_crossentropy\n",
    "from keras.preprocessing.image import ImageDataGenerator\n",
    "from keras.layers.normalization import BatchNormalization\n",
    "from keras.layers.convolutional import *\n",
    "from matplotlib import pyplot as plt\n",
    "from sklearn.metrics import confusion_matrix\n",
    "import itertools\n",
    "import matplotlib.pyplot as plt\n",
    "\n",
    "%matplotlib inline"
   ]
  },
  {
   "cell_type": "code",
   "execution_count": 35,
   "metadata": {
    "scrolled": true
   },
   "outputs": [],
   "source": [
    "from openpyxl import load_workbook\n",
    "\n",
    "wb=load_workbook(filename='2week/airdata.xlsx')\n",
    "sheet1=wb['airdata']\n",
    "\n",
    "data_sheet=[]\n",
    "data_sheet2=[]\n",
    "\n",
    "for r in sheet1.iter_rows(min_row=1,max_col=9):\n",
    "   \n",
    "    for cell in r:\n",
    "        if cell.value != None:\n",
    "            data_sheet.append(float(cell.value))\n",
    "        else:\n",
    "            data_sheet.append(float(5))\n",
    "        \n",
    "    \n",
    "for r in sheet1.iter_rows(min_row=1,min_col=10,max_col=12):\n",
    "    \n",
    "    for cell in r:\n",
    "        if cell.value != None:\n",
    "            data_sheet2.append(float(cell.value))\n",
    "        else:\n",
    "            data_sheet2.append(float(5))\n",
    "        \n",
    "    \n",
    "\n",
    "\n"
   ]
  },
  {
   "cell_type": "code",
   "execution_count": 38,
   "metadata": {},
   "outputs": [
    {
     "data": {
      "text/plain": [
       "720.0"
      ]
     },
     "execution_count": 38,
     "metadata": {},
     "output_type": "execute_result"
    }
   ],
   "source": [
    "len(data_sheet)/9"
   ]
  },
  {
   "cell_type": "code",
   "execution_count": 39,
   "metadata": {},
   "outputs": [],
   "source": [
    "data_sheet=np.array(data_sheet)\n",
    "data_sheet=data_sheet.reshape(720,9)\n",
    "\n",
    "data_sheet2=np.array(data_sheet2)\n",
    "data_sheet2=data_sheet2.reshape(720,3)\n"
   ]
  },
  {
   "cell_type": "code",
   "execution_count": 40,
   "metadata": {},
   "outputs": [
    {
     "data": {
      "text/plain": [
       "array([[6.00000e+00, 9.20000e+01, 1.01906e+05, ..., 6.00000e+00,\n",
       "        8.90000e+01, 1.01877e+05],\n",
       "       [6.00000e+00, 9.20000e+01, 1.01869e+05, ..., 6.00000e+00,\n",
       "        8.90000e+01, 1.01842e+05],\n",
       "       [5.00000e+00, 9.40000e+01, 1.01837e+05, ..., 5.00000e+00,\n",
       "        9.10000e+01, 1.01812e+05],\n",
       "       ...,\n",
       "       [9.00000e+00, 9.20000e+01, 1.02024e+05, ..., 1.00000e+01,\n",
       "        8.80000e+01, 1.02009e+05],\n",
       "       [9.00000e+00, 9.60000e+01, 1.02002e+05, ..., 5.00000e+00,\n",
       "        9.40000e+01, 1.01991e+05],\n",
       "       [8.00000e+00, 1.01000e+02, 1.01972e+05, ..., 0.00000e+00,\n",
       "        9.60000e+01, 1.01968e+05]])"
      ]
     },
     "execution_count": 40,
     "metadata": {},
     "output_type": "execute_result"
    }
   ],
   "source": [
    "data_sheet"
   ]
  },
  {
   "cell_type": "code",
   "execution_count": 41,
   "metadata": {},
   "outputs": [
    {
     "data": {
      "text/plain": [
       "array([[47., 45., 71.],\n",
       "       [44., 43., 70.],\n",
       "       [50., 49., 75.],\n",
       "       ...,\n",
       "       [37., 42., 63.],\n",
       "       [38., 44., 64.],\n",
       "       [35., 41., 60.]])"
      ]
     },
     "execution_count": 41,
     "metadata": {},
     "output_type": "execute_result"
    }
   ],
   "source": [
    "data_sheet2"
   ]
  },
  {
   "cell_type": "code",
   "execution_count": 42,
   "metadata": {},
   "outputs": [],
   "source": [
    "model = Sequential([\n",
    "    Dense(18 , input_shape=(9,),activation='relu'),\n",
    "    Dense(54, activation='relu'),\n",
    "    Dense(54, activation='relu'),\n",
    "    Dense(54, activation='relu'),\n",
    "    Dense(54, activation='relu'),\n",
    "    Dense(3)\n",
    "])"
   ]
  },
  {
   "cell_type": "code",
   "execution_count": 43,
   "metadata": {},
   "outputs": [],
   "source": [
    "model.compile(Adam(lr=.0001), loss='mean_squared_error', metrics=['accuracy'])"
   ]
  },
  {
   "cell_type": "code",
   "execution_count": 54,
   "metadata": {
    "scrolled": false
   },
   "outputs": [
    {
     "name": "stdout",
     "output_type": "stream",
     "text": [
      "Epoch 1/40\n",
      "720/720 [==============================] - 1s 848us/step - loss: 299.0064 - acc: 0.9056\n",
      "Epoch 2/40\n",
      "720/720 [==============================] - 1s 837us/step - loss: 294.3040 - acc: 0.8722\n",
      "Epoch 3/40\n",
      "720/720 [==============================] - 1s 804us/step - loss: 297.9601 - acc: 0.9250\n",
      "Epoch 4/40\n",
      "720/720 [==============================] - 1s 826us/step - loss: 291.1186 - acc: 0.8903\n",
      "Epoch 5/40\n",
      "720/720 [==============================] - 1s 845us/step - loss: 296.3645 - acc: 0.8542\n",
      "Epoch 6/40\n",
      "720/720 [==============================] - 1s 829us/step - loss: 322.7855 - acc: 0.8181\n",
      "Epoch 7/40\n",
      "720/720 [==============================] - 1s 934us/step - loss: 308.6827 - acc: 0.8319\n",
      "Epoch 8/40\n",
      "720/720 [==============================] - 1s 861us/step - loss: 301.2790 - acc: 0.8528\n",
      "Epoch 9/40\n",
      "720/720 [==============================] - 1s 851us/step - loss: 311.6351 - acc: 0.8319\n",
      "Epoch 10/40\n",
      "720/720 [==============================] - 1s 881us/step - loss: 298.9790 - acc: 0.8694\n",
      "Epoch 11/40\n",
      "720/720 [==============================] - 1s 886us/step - loss: 314.4063 - acc: 0.8667\n",
      "Epoch 12/40\n",
      "720/720 [==============================] - 1s 955us/step - loss: 308.3191 - acc: 0.8681\n",
      "Epoch 13/40\n",
      "720/720 [==============================] - 1s 888us/step - loss: 319.5629 - acc: 0.8264\n",
      "Epoch 14/40\n",
      "720/720 [==============================] - 1s 866us/step - loss: 294.4078 - acc: 0.8847\n",
      "Epoch 15/40\n",
      "720/720 [==============================] - 1s 986us/step - loss: 292.4396 - acc: 0.8778\n",
      "Epoch 16/40\n",
      "720/720 [==============================] - 1s 955us/step - loss: 288.3807 - acc: 0.8681\n",
      "Epoch 17/40\n",
      "720/720 [==============================] - 1s 906us/step - loss: 289.7574 - acc: 0.9139\n",
      "Epoch 18/40\n",
      "720/720 [==============================] - 1s 963us/step - loss: 293.5532 - acc: 0.9056\n",
      "Epoch 19/40\n",
      "720/720 [==============================] - 1s 1ms/step - loss: 290.2233 - acc: 0.8792\n",
      "Epoch 20/40\n",
      "720/720 [==============================] - 1s 955us/step - loss: 280.3200 - acc: 0.8972\n",
      "Epoch 21/40\n",
      "720/720 [==============================] - 1s 992us/step - loss: 286.3497 - acc: 0.8792\n",
      "Epoch 22/40\n",
      "720/720 [==============================] - 1s 959us/step - loss: 300.1668 - acc: 0.8375\n",
      "Epoch 23/40\n",
      "720/720 [==============================] - 1s 920us/step - loss: 284.3632 - acc: 0.8333\n",
      "Epoch 24/40\n",
      "720/720 [==============================] - 1s 913us/step - loss: 285.9518 - acc: 0.8236\n",
      "Epoch 25/40\n",
      "720/720 [==============================] - 1s 1ms/step - loss: 298.6817 - acc: 0.8028\n",
      "Epoch 26/40\n",
      "720/720 [==============================] - 1s 1ms/step - loss: 282.9771 - acc: 0.8306\n",
      "Epoch 27/40\n",
      "720/720 [==============================] - 1s 1ms/step - loss: 281.5757 - acc: 0.8389\n",
      "Epoch 28/40\n",
      "720/720 [==============================] - 1s 1ms/step - loss: 284.4410 - acc: 0.8264\n",
      "Epoch 29/40\n",
      "720/720 [==============================] - 1s 945us/step - loss: 290.9051 - acc: 0.8403\n",
      "Epoch 30/40\n",
      "720/720 [==============================] - 1s 980us/step - loss: 275.1535 - acc: 0.8708\n",
      "Epoch 31/40\n",
      "720/720 [==============================] - 1s 879us/step - loss: 270.8621 - acc: 0.8792\n",
      "Epoch 32/40\n",
      "720/720 [==============================] - 1s 899us/step - loss: 274.5098 - acc: 0.8431\n",
      "Epoch 33/40\n",
      "720/720 [==============================] - 1s 919us/step - loss: 263.4818 - acc: 0.8903\n",
      "Epoch 34/40\n",
      "720/720 [==============================] - 1s 965us/step - loss: 281.6311 - acc: 0.7958\n",
      "Epoch 35/40\n",
      "720/720 [==============================] - 1s 937us/step - loss: 280.0472 - acc: 0.8458\n",
      "Epoch 36/40\n",
      "720/720 [==============================] - 1s 880us/step - loss: 283.6047 - acc: 0.8028\n",
      "Epoch 37/40\n",
      "720/720 [==============================] - 1s 951us/step - loss: 273.0613 - acc: 0.8389\n",
      "Epoch 38/40\n",
      "720/720 [==============================] - 1s 879us/step - loss: 271.9032 - acc: 0.8139\n",
      "Epoch 39/40\n",
      "720/720 [==============================] - 1s 1ms/step - loss: 264.3579 - acc: 0.9042\n",
      "Epoch 40/40\n",
      "720/720 [==============================] - 1s 969us/step - loss: 258.5490 - acc: 0.8931\n"
     ]
    },
    {
     "data": {
      "text/plain": [
       "<keras.callbacks.History at 0x146b2eeb898>"
      ]
     },
     "execution_count": 54,
     "metadata": {},
     "output_type": "execute_result"
    }
   ],
   "source": [
    "model.fit(data_sheet,data_sheet2, batch_size=2, epochs=40, shuffle=True, verbose=1)"
   ]
  },
  {
   "cell_type": "code",
   "execution_count": 57,
   "metadata": {},
   "outputs": [
    {
     "data": {
      "text/plain": [
       "array([[38.64042 , 38.313755, 39.3093  ],\n",
       "       [39.2177  , 38.951397, 39.76486 ],\n",
       "       [36.685467, 36.155334, 37.719696],\n",
       "       [35.322952, 34.513374, 36.566837],\n",
       "       [34.397495, 33.591595, 35.862053],\n",
       "       [33.68986 , 32.853645, 35.309925],\n",
       "       [34.580345, 33.28796 , 35.877316],\n",
       "       [32.573063, 30.65528 , 34.147938],\n",
       "       [28.943544, 26.0795  , 31.084183],\n",
       "       [24.404829, 20.83206 , 27.388924]], dtype=float32)"
      ]
     },
     "execution_count": 57,
     "metadata": {},
     "output_type": "execute_result"
    }
   ],
   "source": [
    "model.predict(x=data_sheet[0:10])"
   ]
  },
  {
   "cell_type": "code",
   "execution_count": 58,
   "metadata": {},
   "outputs": [
    {
     "data": {
      "text/plain": [
       "array([[47., 45., 71.],\n",
       "       [44., 43., 70.],\n",
       "       [50., 49., 75.],\n",
       "       [53., 52., 78.],\n",
       "       [45., 44., 71.],\n",
       "       [46., 45., 70.],\n",
       "       [36., 34., 58.],\n",
       "       [28., 26., 46.],\n",
       "       [21., 18., 32.],\n",
       "       [15., 13., 21.]])"
      ]
     },
     "execution_count": 58,
     "metadata": {},
     "output_type": "execute_result"
    }
   ],
   "source": [
    "data_sheet2[0:10]"
   ]
  },
  {
   "cell_type": "code",
   "execution_count": null,
   "metadata": {},
   "outputs": [],
   "source": []
  }
 ],
 "metadata": {
  "kernelspec": {
   "display_name": "Python 3",
   "language": "python",
   "name": "python3"
  },
  "language_info": {
   "codemirror_mode": {
    "name": "ipython",
    "version": 3
   },
   "file_extension": ".py",
   "mimetype": "text/x-python",
   "name": "python",
   "nbconvert_exporter": "python",
   "pygments_lexer": "ipython3",
   "version": "3.6.8"
  }
 },
 "nbformat": 4,
 "nbformat_minor": 2
}
