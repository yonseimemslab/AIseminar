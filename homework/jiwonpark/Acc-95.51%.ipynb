{
 "cells": [
  {
   "cell_type": "code",
   "execution_count": 1,
   "metadata": {},
   "outputs": [
    {
     "name": "stderr",
     "output_type": "stream",
     "text": [
      "Using TensorFlow backend.\n"
     ]
    },
    {
     "ename": "ModuleNotFoundError",
     "evalue": "No module named 'matplotlib'",
     "output_type": "error",
     "traceback": [
      "\u001b[1;31m---------------------------------------------------------------------------\u001b[0m",
      "\u001b[1;31mModuleNotFoundError\u001b[0m                       Traceback (most recent call last)",
      "\u001b[1;32m<ipython-input-1-13672dc3c06f>\u001b[0m in \u001b[0;36m<module>\u001b[1;34m\u001b[0m\n\u001b[0;32m      9\u001b[0m \u001b[1;32mfrom\u001b[0m \u001b[0mkeras\u001b[0m\u001b[1;33m.\u001b[0m\u001b[0mpreprocessing\u001b[0m\u001b[1;33m.\u001b[0m\u001b[0mimage\u001b[0m \u001b[1;32mimport\u001b[0m \u001b[0mImageDataGenerator\u001b[0m\u001b[1;33m\u001b[0m\u001b[1;33m\u001b[0m\u001b[0m\n\u001b[0;32m     10\u001b[0m \u001b[1;32mfrom\u001b[0m \u001b[0mkeras\u001b[0m\u001b[1;33m.\u001b[0m\u001b[0mlayers\u001b[0m\u001b[1;33m.\u001b[0m\u001b[0mnormalization\u001b[0m \u001b[1;32mimport\u001b[0m \u001b[0mBatchNormalization\u001b[0m\u001b[1;33m\u001b[0m\u001b[1;33m\u001b[0m\u001b[0m\n\u001b[1;32m---> 11\u001b[1;33m \u001b[1;32mfrom\u001b[0m \u001b[0mmatplotlib\u001b[0m \u001b[1;32mimport\u001b[0m \u001b[0mpyplot\u001b[0m \u001b[1;32mas\u001b[0m \u001b[0mplt\u001b[0m\u001b[1;33m\u001b[0m\u001b[1;33m\u001b[0m\u001b[0m\n\u001b[0m\u001b[0;32m     12\u001b[0m \u001b[1;32mfrom\u001b[0m \u001b[0msklearn\u001b[0m\u001b[1;33m.\u001b[0m\u001b[0mmetrics\u001b[0m \u001b[1;32mimport\u001b[0m \u001b[0mconfusion_matrix\u001b[0m\u001b[1;33m\u001b[0m\u001b[1;33m\u001b[0m\u001b[0m\n\u001b[0;32m     13\u001b[0m \u001b[1;32mimport\u001b[0m \u001b[0mitertools\u001b[0m\u001b[1;33m\u001b[0m\u001b[1;33m\u001b[0m\u001b[0m\n",
      "\u001b[1;31mModuleNotFoundError\u001b[0m: No module named 'matplotlib'"
     ]
    }
   ],
   "source": [
    "import numpy as np\n",
    "import keras\n",
    "from keras import backend as K\n",
    "from keras.models import Sequential\n",
    "from keras.layers import Activation\n",
    "from keras.layers.core import Dense, Flatten\n",
    "from keras.optimizers import Adam\n",
    "from keras.metrics import categorical_crossentropy\n",
    "from keras.preprocessing.image import ImageDataGenerator\n",
    "from keras.layers.normalization import BatchNormalization\n",
    "from matplotlib import pyplot as plt\n",
    "from sklearn.metrics import confusion_matrix\n",
    "import itertools"
   ]
  },
  {
   "cell_type": "code",
   "execution_count": 2,
   "metadata": {},
   "outputs": [],
   "source": [
    "from openpyxl import load_workbook\n",
    "\n",
    "wb=load_workbook(filename='airdata.xlsx')\n",
    "sheet1=wb['airdata']\n",
    "\n",
    "data_sheet1=[]\n",
    "data_sheet2=[]\n",
    "\n",
    "for r in sheet1.iter_rows(min_row=2,max_col=9):\n",
    "   \n",
    "    for cell in r:\n",
    "        if cell.value != None:\n",
    "            data_sheet1.append(float(cell.value))\n",
    "        else:\n",
    "            data_sheet1.append(float(5))\n",
    "        \n",
    "    \n",
    "for r in sheet1.iter_rows(min_row=2,min_col=10,max_col=12):\n",
    "    \n",
    "    for cell in r:\n",
    "        if cell.value != None:\n",
    "            data_sheet2.append(float(cell.value))\n",
    "        else:\n",
    "            data_sheet2.append(float(5))"
   ]
  },
  {
   "cell_type": "code",
   "execution_count": 3,
   "metadata": {},
   "outputs": [],
   "source": [
    "data_sheet1=np.array(data_sheet1)\n",
    "data_sheet1=data_sheet1.reshape(668,9)\n",
    "\n",
    "data_sheet2=np.array(data_sheet2)\n",
    "data_sheet2=data_sheet2.reshape(668,3)"
   ]
  },
  {
   "cell_type": "code",
   "execution_count": 4,
   "metadata": {},
   "outputs": [
    {
     "data": {
      "text/plain": [
       "array([[6.00000e+00, 9.20000e+01, 1.01906e+05, ..., 6.00000e+00,\n",
       "        8.90000e+01, 1.01877e+05],\n",
       "       [6.00000e+00, 9.20000e+01, 1.01869e+05, ..., 6.00000e+00,\n",
       "        8.90000e+01, 1.01842e+05],\n",
       "       [5.00000e+00, 9.40000e+01, 1.01837e+05, ..., 5.00000e+00,\n",
       "        9.10000e+01, 1.01812e+05],\n",
       "       ...,\n",
       "       [9.00000e+00, 9.20000e+01, 1.02024e+05, ..., 1.00000e+01,\n",
       "        8.80000e+01, 1.02009e+05],\n",
       "       [9.00000e+00, 9.60000e+01, 1.02002e+05, ..., 5.00000e+00,\n",
       "        9.40000e+01, 1.01991e+05],\n",
       "       [8.00000e+00, 1.01000e+02, 1.01972e+05, ..., 0.00000e+00,\n",
       "        9.60000e+01, 1.01968e+05]])"
      ]
     },
     "execution_count": 4,
     "metadata": {},
     "output_type": "execute_result"
    }
   ],
   "source": [
    "data_sheet1"
   ]
  },
  {
   "cell_type": "code",
   "execution_count": 5,
   "metadata": {},
   "outputs": [
    {
     "data": {
      "text/plain": [
       "array([[47., 45., 71.],\n",
       "       [44., 43., 70.],\n",
       "       [50., 49., 75.],\n",
       "       ...,\n",
       "       [37., 42., 63.],\n",
       "       [38., 44., 64.],\n",
       "       [35., 41., 60.]])"
      ]
     },
     "execution_count": 5,
     "metadata": {},
     "output_type": "execute_result"
    }
   ],
   "source": [
    "data_sheet2"
   ]
  },
  {
   "cell_type": "code",
   "execution_count": 22,
   "metadata": {},
   "outputs": [],
   "source": [
    "model = Sequential([\n",
    "    Dense(9, input_shape=(9,),activation='relu'),\n",
    "    Dense(27, activation='relu'),\n",
    "    Dense(27, activation='relu'),\n",
    "    Dense(54, activation='relu'),\n",
    "    Dense(54, activation='relu'),\n",
    "    Dense(3)\n",
    "])"
   ]
  },
  {
   "cell_type": "code",
   "execution_count": 23,
   "metadata": {},
   "outputs": [],
   "source": [
    "model.compile(Adam(lr=.0001), loss='mean_squared_error', metrics=['accuracy'])"
   ]
  },
  {
   "cell_type": "code",
   "execution_count": 24,
   "metadata": {},
   "outputs": [
    {
     "name": "stdout",
     "output_type": "stream",
     "text": [
      "Epoch 1/40\n",
      "668/668 [==============================] - 2s 2ms/step - loss: 51385.3689 - acc: 0.8234\n",
      "Epoch 2/40\n",
      "668/668 [==============================] - 1s 1ms/step - loss: 289.4497 - acc: 0.9686\n",
      "Epoch 3/40\n",
      "668/668 [==============================] - 1s 1ms/step - loss: 288.2089 - acc: 0.9656\n",
      "Epoch 4/40\n",
      "668/668 [==============================] - 1s 1ms/step - loss: 301.8399 - acc: 0.9117\n",
      "Epoch 5/40\n",
      "668/668 [==============================] - 1s 1ms/step - loss: 300.8056 - acc: 0.9431\n",
      "Epoch 6/40\n",
      "668/668 [==============================] - 1s 1ms/step - loss: 328.3771 - acc: 0.8653\n",
      "Epoch 7/40\n",
      "668/668 [==============================] - 1s 983us/step - loss: 321.2834 - acc: 0.8862\n",
      "Epoch 8/40\n",
      "668/668 [==============================] - 1s 1ms/step - loss: 340.6960 - acc: 0.8787\n",
      "Epoch 9/40\n",
      "668/668 [==============================] - 1s 1ms/step - loss: 314.3034 - acc: 0.9311\n",
      "Epoch 10/40\n",
      "668/668 [==============================] - 1s 1ms/step - loss: 325.6949 - acc: 0.8787\n",
      "Epoch 11/40\n",
      "668/668 [==============================] - 1s 1ms/step - loss: 370.1373 - acc: 0.8473\n",
      "Epoch 12/40\n",
      "668/668 [==============================] - 1s 1ms/step - loss: 350.2906 - acc: 0.8683\n",
      "Epoch 13/40\n",
      "668/668 [==============================] - 1s 1ms/step - loss: 340.2606 - acc: 0.8817\n",
      "Epoch 14/40\n",
      "668/668 [==============================] - 1s 1ms/step - loss: 360.9722 - acc: 0.8847\n",
      "Epoch 15/40\n",
      "668/668 [==============================] - 1s 1ms/step - loss: 385.4851 - acc: 0.8653\n",
      "Epoch 16/40\n",
      "668/668 [==============================] - 1s 1ms/step - loss: 365.9655 - acc: 0.8713\n",
      "Epoch 17/40\n",
      "668/668 [==============================] - 1s 1ms/step - loss: 380.8839 - acc: 0.8713\n",
      "Epoch 18/40\n",
      "668/668 [==============================] - 1s 1ms/step - loss: 426.7361 - acc: 0.8398\n",
      "Epoch 19/40\n",
      "668/668 [==============================] - 1s 1ms/step - loss: 341.4781 - acc: 0.9446\n",
      "Epoch 20/40\n",
      "668/668 [==============================] - 1s 1ms/step - loss: 408.7026 - acc: 0.9341\n",
      "Epoch 21/40\n",
      "668/668 [==============================] - 1s 1ms/step - loss: 356.3026 - acc: 0.9296\n",
      "Epoch 22/40\n",
      "668/668 [==============================] - 1s 1ms/step - loss: 358.4746 - acc: 0.9506\n",
      "Epoch 23/40\n",
      "668/668 [==============================] - 1s 1ms/step - loss: 354.8627 - acc: 0.9596\n",
      "Epoch 24/40\n",
      "668/668 [==============================] - 1s 1ms/step - loss: 347.8174 - acc: 0.9596\n",
      "Epoch 25/40\n",
      "668/668 [==============================] - 1s 1ms/step - loss: 323.6607 - acc: 0.9820\n",
      "Epoch 26/40\n",
      "668/668 [==============================] - 1s 1ms/step - loss: 361.8452 - acc: 0.9311\n",
      "Epoch 27/40\n",
      "668/668 [==============================] - 1s 1ms/step - loss: 373.0868 - acc: 0.9671\n",
      "Epoch 28/40\n",
      "668/668 [==============================] - 1s 1ms/step - loss: 347.1353 - acc: 0.9581\n",
      "Epoch 29/40\n",
      "668/668 [==============================] - 1s 1ms/step - loss: 395.2309 - acc: 0.9431\n",
      "Epoch 30/40\n",
      "668/668 [==============================] - 1s 1ms/step - loss: 346.9006 - acc: 0.9701\n",
      "Epoch 31/40\n",
      "668/668 [==============================] - 1s 1ms/step - loss: 349.2843 - acc: 0.9775\n",
      "Epoch 32/40\n",
      "668/668 [==============================] - 1s 1ms/step - loss: 337.6191 - acc: 0.9611\n",
      "Epoch 33/40\n",
      "668/668 [==============================] - 1s 1ms/step - loss: 351.7758 - acc: 0.9611\n",
      "Epoch 34/40\n",
      "668/668 [==============================] - 1s 1ms/step - loss: 337.7980 - acc: 0.9611\n",
      "Epoch 35/40\n",
      "668/668 [==============================] - 1s 1ms/step - loss: 386.2861 - acc: 0.9895A: 0s - loss: 318.4914 - acc: 0.98\n",
      "Epoch 36/40\n",
      "668/668 [==============================] - 1s 1ms/step - loss: 368.1492 - acc: 0.9311\n",
      "Epoch 37/40\n",
      "668/668 [==============================] - 1s 1ms/step - loss: 343.8593 - acc: 0.9431\n",
      "Epoch 38/40\n",
      "668/668 [==============================] - 1s 1ms/step - loss: 360.3599 - acc: 0.9746\n",
      "Epoch 39/40\n",
      "668/668 [==============================] - 1s 1ms/step - loss: 317.8196 - acc: 0.9880\n",
      "Epoch 40/40\n",
      "668/668 [==============================] - 1s 1ms/step - loss: 321.9255 - acc: 0.9551\n"
     ]
    },
    {
     "data": {
      "text/plain": [
       "<keras.callbacks.History at 0x1b1d6a05ac8>"
      ]
     },
     "execution_count": 24,
     "metadata": {},
     "output_type": "execute_result"
    }
   ],
   "source": [
    "model.fit(data_sheet1,data_sheet2, batch_size=2, epochs=40, shuffle=True, verbose=1)"
   ]
  },
  {
   "cell_type": "code",
   "execution_count": 26,
   "metadata": {},
   "outputs": [
    {
     "data": {
      "text/plain": [
       "array([[26.825405, 21.261198, 42.31474 ],\n",
       "       [26.771755, 21.309599, 42.38943 ],\n",
       "       [27.037685, 21.03845 , 42.00428 ],\n",
       "       [27.264187, 20.86865 , 41.729847],\n",
       "       [27.30502 , 20.775267, 41.62346 ],\n",
       "       [27.361172, 20.683012, 41.55091 ],\n",
       "       [27.25021 , 20.694304, 41.584084],\n",
       "       [27.522488, 20.373991, 41.115417],\n",
       "       [27.903744, 19.916044, 40.344406],\n",
       "       [28.477009, 19.40637 , 39.505295]], dtype=float32)"
      ]
     },
     "execution_count": 26,
     "metadata": {},
     "output_type": "execute_result"
    }
   ],
   "source": [
    "model.predict(x=data_sheet1[0:10])"
   ]
  },
  {
   "cell_type": "code",
   "execution_count": 27,
   "metadata": {},
   "outputs": [
    {
     "data": {
      "text/plain": [
       "array([[47., 45., 71.],\n",
       "       [44., 43., 70.],\n",
       "       [50., 49., 75.],\n",
       "       [53., 52., 78.],\n",
       "       [45., 44., 71.],\n",
       "       [46., 45., 70.],\n",
       "       [36., 34., 58.],\n",
       "       [28., 26., 46.],\n",
       "       [21., 18., 32.],\n",
       "       [15., 13., 21.]])"
      ]
     },
     "execution_count": 27,
     "metadata": {},
     "output_type": "execute_result"
    }
   ],
   "source": [
    "data_sheet2[0:10]"
   ]
  },
  {
   "cell_type": "code",
   "execution_count": null,
   "metadata": {},
   "outputs": [],
   "source": []
  }
 ],
 "metadata": {
  "kernelspec": {
   "display_name": "Python 3",
   "language": "python",
   "name": "python3"
  },
  "language_info": {
   "codemirror_mode": {
    "name": "ipython",
    "version": 3
   },
   "file_extension": ".py",
   "mimetype": "text/x-python",
   "name": "python",
   "nbconvert_exporter": "python",
   "pygments_lexer": "ipython3",
   "version": "3.6.8"
  }
 },
 "nbformat": 4,
 "nbformat_minor": 2
}
